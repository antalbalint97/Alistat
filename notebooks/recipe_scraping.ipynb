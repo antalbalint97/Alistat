{
 "cells": [
  {
   "cell_type": "code",
   "execution_count": 1,
   "id": "1832d6a4",
   "metadata": {},
   "outputs": [],
   "source": [
    "import requests\n",
    "from bs4 import BeautifulSoup\n",
    "import pandas as pd\n",
    "import re\n",
    "from tqdm import tqdm\n",
    "import time\n",
    "from datetime import datetime\n",
    "from requests.exceptions import RequestException\n",
    "import xml.etree.ElementTree as ET"
   ]
  },
  {
   "cell_type": "code",
   "execution_count": 8,
   "id": "92177862",
   "metadata": {},
   "outputs": [],
   "source": [
    "import pandas as pd\n",
    "import re\n",
    "import xml.etree.ElementTree as ET\n",
    "from datetime import datetime\n",
    "\n",
    "class DataProcessor:\n",
    "    \"\"\"Class for processing XML data and cleaning nutritional data.\"\"\"\n",
    "\n",
    "    def __init__(self):\n",
    "        \"\"\"Initialize the DataProcessor class.\"\"\"\n",
    "        pass  # No instance variables needed, as all methods are static\n",
    "\n",
    "    @staticmethod\n",
    "    def clean_nutrition_data(df):\n",
    "        \"\"\"\n",
    "        Cleans the nutrition data by:\n",
    "        - Removing 'g', 'mg', 'micro', 'perc', and '°C'\n",
    "        - Converting appropriate units to float\n",
    "\n",
    "        Args:\n",
    "            df (pd.DataFrame): DataFrame containing nutritional data.\n",
    "\n",
    "        Returns:\n",
    "            pd.DataFrame: Cleaned DataFrame.\n",
    "        \"\"\"\n",
    "        excluded_indexes = [0, 1, 3, 4, 5, 10]\n",
    "        excluded_columns = ['Fogás', 'Konyha', 'Nehézség', 'Elkészítési idő', 'Szakács elkészítette', \n",
    "                            'Speciális étrendek', 'Vegetáriánus', 'Alkalom', 'Költség egy főre', \n",
    "                            'Konyhatechnológia']\n",
    "        \n",
    "        for index, col in enumerate(df.columns):\n",
    "            if index in excluded_indexes or col in excluded_columns:\n",
    "                continue\n",
    "            if df[col].dtype == 'object':\n",
    "                df[col] = df[col].apply(lambda x: DataProcessor.clean_value(x))\n",
    "        \n",
    "        return df\n",
    "   \n",
    "    @staticmethod\n",
    "    def clean_nutrition_data_ingredients(df):\n",
    "        \"\"\"\n",
    "        Cleans numerical nutrition data by:\n",
    "        - Removing units like 'g', 'mg', 'µg', 'micro'\n",
    "        - Converting to float and scaling appropriately\n",
    "        - Keeping non-numeric columns unchanged\n",
    "\n",
    "        Args:\n",
    "        df (pd.DataFrame): The dataframe containing nutritional data.\n",
    "\n",
    "        Returns:\n",
    "        pd.DataFrame: Cleaned dataframe with corrected values.\n",
    "        \"\"\"\n",
    "        excluded_columns = ['Alapanyag neve', 'Elsődleges kategória', 'Másodlagos kategória']\n",
    "\n",
    "        for col in df.columns:\n",
    "            if col in excluded_columns:\n",
    "                continue  # Skip non-numeric columns\n",
    "            if df[col].dtype == 'object':\n",
    "                df[col] = df[col].apply(lambda x: clean_value(x))\n",
    "        return df\n",
    "    \n",
    "    @staticmethod\n",
    "    def clean_value(value):\n",
    "        \"\"\"\n",
    "        Cleans individual value by:\n",
    "        - Removing unwanted characters\n",
    "        - Converting to appropriate numeric format\n",
    "\n",
    "        Args:\n",
    "            value (str): The value to clean.\n",
    "\n",
    "        Returns:\n",
    "            float or str: Cleaned numeric value if applicable, otherwise original string.\n",
    "        \"\"\"\n",
    "        if isinstance(value, str):\n",
    "            value = value.strip().lower()\n",
    "            has_number = any(char.isdigit() for char in value)\n",
    "\n",
    "            if has_number:\n",
    "                if 'mg' in value:\n",
    "                    return float(value.replace('mg', '').strip()) / 1000\n",
    "                elif 'µg' in value:\n",
    "                    return float(value.replace('µg', '').strip()) / 1_000_000\n",
    "                elif 'micro' in value:\n",
    "                    return float(value.replace('micro', '').strip()) / 1_000_000\n",
    "                elif 'g' in value:\n",
    "                    return float(value.replace('g', '').strip())\n",
    "                elif 'perc' in value:\n",
    "                    return float(value.replace('perc', '').strip())\n",
    "                elif '°c' in value:\n",
    "                    return float(value.replace('°c', '').strip())\n",
    "\n",
    "        return value  # Return unchanged if not numeric\n",
    "\n",
    "    @staticmethod\n",
    "    def clean_ingredient_value(value):\n",
    "        \"\"\"\n",
    "        Cleans an individual value by:\n",
    "        - Removing units ('g', 'mg', 'µg', 'micro', 'mcg')\n",
    "        - Converting to float and scaling appropriately\n",
    "        - Handling cases where unexpected characters appear\n",
    "\n",
    "        Args:\n",
    "        value (str): The original value.\n",
    "\n",
    "        Returns:\n",
    "        float or original value if conversion fails.\n",
    "        \"\"\"\n",
    "        if isinstance(value, str):\n",
    "            value = value.strip().lower()\n",
    "\n",
    "            # Extract numeric part using regex\n",
    "            num_match = re.search(r\"[-+]?\\d*\\.?\\d+\", value)\n",
    "            if not num_match:\n",
    "                return value  # Return as-is if no number is found\n",
    "\n",
    "            num = float(num_match.group())  # Extract the numerical value\n",
    "\n",
    "            # Check for unit and scale accordingly\n",
    "            if \"mg\" in value:\n",
    "                return num / 1000  # Convert mg to g\n",
    "            elif \"µg\" in value or \"mcg\" in value or \"micro\" in value:\n",
    "                return num / 1000000  # Convert µg/micro/mcg to g\n",
    "            elif \"g\" in value:\n",
    "                return num  # Already in g, no change needed\n",
    "\n",
    "            return num  # If no unit is found, assume the number is correct\n",
    "\n",
    "        return value  # Return original if not a string\n"
   ]
  },
  {
   "cell_type": "code",
   "execution_count": 21,
   "id": "52ec8c22",
   "metadata": {},
   "outputs": [],
   "source": [
    "class RecipeScraper:\n",
    "    \"\"\"Class for scraping full details of a recipe from Nosalty.\"\"\"\n",
    "\n",
    "    BASE_URL = \"https://www.nosalty.hu/recept/\"\n",
    "\n",
    "    def __init__(self, url):\n",
    "        self.url = url\n",
    "        self.soup = self.get_soup()\n",
    "        \n",
    "    def extract_urls_from_xml(file_path, check_url_format=False, date_range=None):\n",
    "        \"\"\"\n",
    "        Extracts recipe URLs from an XML file, optionally checking format and date range.\n",
    "        \n",
    "        Args:\n",
    "            file_path (str): Path to the XML file.\n",
    "            check_url_format (bool): If True, checks if the URL is valid.\n",
    "            date_range (tuple): Optional (start_date, end_date) for filtering URLs by lastmod.\n",
    "                                Format: ('YYYY-MM-DD', 'YYYY-MM-DD').\n",
    "\n",
    "        Returns:\n",
    "            list: List of valid URLs.\n",
    "        \"\"\"\n",
    "        def is_valid_url(url):\n",
    "            \"\"\"Validates URL format.\"\"\"\n",
    "            pattern = r\"^(http|https)://[^\\s/$.?#].[^\\s]*$\"\n",
    "            return re.match(pattern, url) is not None\n",
    "\n",
    "        def is_within_date_range(date_text, start_date, end_date):\n",
    "            \"\"\"Checks if the date falls within the specified range.\"\"\"\n",
    "            try:\n",
    "                date = datetime.strptime(date_text, \"%Y-%m-%d\")\n",
    "                return start_date <= date <= end_date\n",
    "            except ValueError:\n",
    "                return False\n",
    "\n",
    "        # Define XML namespace\n",
    "        namespace = {'ns': 'http://www.sitemaps.org/schemas/sitemap/0.9'}\n",
    "\n",
    "        # Parse XML\n",
    "        tree = ET.parse(file_path)\n",
    "        root = tree.getroot()\n",
    "\n",
    "        urls = []\n",
    "        base_url = \"https://www.nosalty.hu/recept/\"\n",
    "        for url in root.findall('ns:url', namespace):\n",
    "            loc = url.find('ns:loc', namespace)\n",
    "            lastmod = url.find('ns:lastmod', namespace)\n",
    "\n",
    "            if loc is not None:\n",
    "                url_text = loc.text\n",
    "                if not url_text.startswith(base_url):\n",
    "                    continue\n",
    "                if check_url_format and not is_valid_url(url_text):\n",
    "                    continue\n",
    "                if date_range and lastmod is not None:\n",
    "                    start_date, end_date = map(lambda d: datetime.strptime(d, \"%Y-%m-%d\"), date_range)\n",
    "                    if not is_within_date_range(lastmod.text, start_date, end_date):\n",
    "                        continue\n",
    "                urls.append(url_text)\n",
    "\n",
    "        return urls\n",
    "    \n",
    "    def get_soup(self):\n",
    "        \"\"\"Fetch and parse the webpage.\"\"\"\n",
    "        try:\n",
    "            response = requests.get(self.url, timeout=10)\n",
    "            if response.status_code != 200:\n",
    "                return None\n",
    "            return BeautifulSoup(response.text, 'html.parser')\n",
    "        except requests.RequestException:\n",
    "            return None\n",
    "\n",
    "    def get_title(self):\n",
    "        \"\"\"Extracts the recipe title, or returns None if unavailable.\"\"\"\n",
    "        title_tag = self.soup.find('h1', class_='p-article__title -recipe pt-10 px-3 mb-5 d-block')\n",
    "        return title_tag.text.strip() if title_tag else 'N/A' \n",
    "\n",
    "    def get_additional_info(self):\n",
    "        \"\"\"Extracts additional metadata related to the recipe.\"\"\"\n",
    "        info = []\n",
    "        classes = [\n",
    "            'a-text -fontSize-9 -fontColorSenary d-none d-sm-block',\n",
    "            'a-text -fontSize-9 -fontColorQuaternary d-none d-sm-block',\n",
    "            'a-link -fontColorPrimary -fontSize-16 -recipe pr-3 pl-2'  # Now capturing <a> elements\n",
    "        ]\n",
    "\n",
    "        for class_name in classes:\n",
    "            elements = self.soup.find_all(['span', 'a'], class_=class_name)  # Look for both <span> and <a>\n",
    "            for element in elements:\n",
    "                info.append(element.text.strip())\n",
    "\n",
    "        return ', '.join(info)\n",
    "\n",
    "    def get_recipe_details(self):\n",
    "        \"\"\"Extracts the available recipe details: Time, Cost, and Difficulty.\"\"\"\n",
    "        details = {}\n",
    "\n",
    "        # Define mapping from Hungarian labels to English keys\n",
    "        rename_map = {\n",
    "            \"Idő\": \"Time\",\n",
    "            \"Költség\": \"Cost\",\n",
    "            \"Nehézség\": \"Difficulty\"\n",
    "        }\n",
    "\n",
    "        # Locate all sections containing the relevant details\n",
    "        detail_sections = self.soup.find_all('div', class_='p-recipe__detailsBody d-print-flex justify-content-end text-center mb-1 w-100')\n",
    "\n",
    "        for section in detail_sections:\n",
    "            label_tag = section.find('span', class_='p-recipe__detailsHeading d-block text-uppercase')  # Find label\n",
    "            value_tag = section.find('div') or section.find('time') or section.find('span')  # Find actual value\n",
    "\n",
    "            if label_tag and value_tag:\n",
    "                label_text = label_tag.text.strip()\n",
    "                value_text = value_tag.text.strip()\n",
    "\n",
    "                # Store the extracted data with correct English labels\n",
    "                if label_text in rename_map:\n",
    "                    details[rename_map[label_text]] = value_text  # Correctly stores the value now\n",
    "\n",
    "        return details\n",
    "\n",
    "    \n",
    "    def get_preparation_and_baking_time(self):\n",
    "        \"\"\"Extracts preparation and baking time from the recipe details list.\"\"\"\n",
    "        details = {}\n",
    "\n",
    "        # Define label mapping from Hungarian to English\n",
    "        rename_map = {\n",
    "            \"Előkészítés ideje\": \"Preparation Time\",\n",
    "            \"Sütés ideje\": \"Baking Time\"\n",
    "        }\n",
    "\n",
    "        # Locate the container that holds preparation and baking times\n",
    "        details_section = self.soup.find('div', class_='p-recipe__detailsList')\n",
    "        if not details_section:\n",
    "            return details  # Return empty if section is missing\n",
    "\n",
    "        # Find the list containing preparation and baking times\n",
    "        list_section = details_section.find('ul', class_='m-list__list')\n",
    "        if not list_section:\n",
    "            return details  # Return empty if no list is found\n",
    "\n",
    "        # Find all list items with the relevant class\n",
    "        list_items = list_section.find_all('li', class_='m-list__item -simple -fontSize-18')\n",
    "\n",
    "        for item in list_items:\n",
    "            # Find the label (first span)\n",
    "            label_tag = item.find('span')\n",
    "            # Find the value (last span in the item)\n",
    "            value_tag = item.find_all('span')[-1] if item.find_all('span') else None\n",
    "\n",
    "            if label_tag and value_tag:\n",
    "                label_text = label_tag.text.strip()\n",
    "                value_text = value_tag.text.strip()\n",
    "\n",
    "                # Store data using mapped labels\n",
    "                if label_text in rename_map:\n",
    "                    details[rename_map[label_text]] = value_text\n",
    "\n",
    "        return details\n",
    "\n",
    "    def get_portions(self):\n",
    "        \"\"\"Extracts the portion size from the input field.\"\"\"\n",
    "\n",
    "        # Find portions (now inside an input field with id=\"adag\")\n",
    "        portion_input = self.soup.find('input', {'id': 'adag'})\n",
    "        portion_value = portion_input['value'].strip() if portion_input and 'value' in portion_input.attrs else 'N/A'\n",
    "\n",
    "        return portion_value\n",
    "\n",
    "    def get_nutrition_data(self):\n",
    "        \"\"\"Extracts all available nutrition details (Protein, Fat, Carbs, Water, and Minerals).\"\"\"\n",
    "        nutrition_data = {}\n",
    "\n",
    "        # Define the section titles and their corresponding nutrient names\n",
    "        nutrition_sections = {\n",
    "            'Fehérje': ['Összesen'],  # Protein\n",
    "            'Zsír': ['Összesen', 'Telített zsírsav', 'Egyszeresen telítetlen zsírsav', 'Többszörösen telítetlen zsírsav', 'Koleszterin'],  # Fats\n",
    "            'Szénhidrátok': ['Összesen', 'Cukor', 'Élelmi rost'],  # Carbs\n",
    "            'VÍZ': ['Összesen'],  # Water\n",
    "            'Ásványi anyagok': ['Cink', 'Szelén', 'Kálcium', 'Vas', 'Magnézium', 'Foszfor', 'Nátrium', 'Réz', 'Mangán'],  # Minerals\n",
    "            'Vitaminok': ['A vitamin', 'B6 vitamin', 'B12 Vitamin', 'E vitamin', 'C vitamin', 'D vitamin', 'K vitamin',\n",
    "                          'Tiamin - B1 vitamin', 'Riboflavin - B2 vitamin', 'Niacin - B3 vitamin', 'Pantoténsav - B5 vitamin',\n",
    "                          'Folsav - B9-vitamin', 'Kolin', 'Retinol', 'α-karotin', 'β-karotin', 'β-crypt', 'Likopin', 'Lut-zea']  # Vitamins\n",
    "        }\n",
    "\n",
    "        # Loop through each section and extract relevant data\n",
    "        for section, nutrients in nutrition_sections.items():\n",
    "            tag = self.soup.find('h4', string=section)  # Find the section header (e.g., \"Fehérje\")\n",
    "\n",
    "            if tag:\n",
    "                list_section = tag.find_next('ul')  # Get the next <ul> after the section header\n",
    "\n",
    "                if list_section:\n",
    "                    for li in list_section.find_all('li'):  # Iterate through each <li> inside the section\n",
    "                        for nutrient in (nutrients if isinstance(nutrients, list) else [nutrients]):\n",
    "                            if nutrient in li.text:  # If the nutrient name appears in the text\n",
    "                                value = li.find('div', class_='kc')  # Find the actual value\n",
    "                                value_text = value.text.strip() if value else 'N/A'\n",
    "\n",
    "                                # **Fix \"Összesen\" overwriting issue** by renaming it based on its section\n",
    "                                if nutrient == \"Összesen\":\n",
    "                                    renamed_nutrient = f\"{section} - Összesen\"  # Example: \"Fehérje - Összesen\"\n",
    "                                else:\n",
    "                                    renamed_nutrient = nutrient  # Keep other names unchanged\n",
    "\n",
    "                                # Store the correctly named value\n",
    "                                nutrition_data[renamed_nutrient] = value_text\n",
    "\n",
    "        return nutrition_data\n",
    "\n",
    "\n",
    "    def get_ingredients(self):\n",
    "        \"\"\"Extracts ingredient names, their full URLs, and amounts.\"\"\"\n",
    "        ingredients_list = []\n",
    "\n",
    "        # Locate the correct section in the HTML\n",
    "        ingredients_section = self.soup.find('ul', class_='m-list__list -nutrition')\n",
    "\n",
    "        if ingredients_section:\n",
    "            items = ingredients_section.find_all('li', class_='m-list__item p-2 -dotted -fontSize-18 d-flex justify-content-between pl-5')\n",
    "\n",
    "            for item in items:\n",
    "                # Extract quantity from span\n",
    "                quantity_tag = item.find('span', class_='-fontSize-lg-16')\n",
    "                quantity = quantity_tag.text.strip() if quantity_tag else 'N/A'\n",
    "\n",
    "                # Extract ingredient name and URL from <a> tag\n",
    "                ingredient_tag = item.find('a', class_='a-link -primaryHoverEffect -fontSize-18 -fontSize-lg-16')\n",
    "                if ingredient_tag:\n",
    "                    ingredient_name = ingredient_tag.text.strip()\n",
    "                else:\n",
    "                    ingredient_name = 'N/A'\n",
    "\n",
    "                # Append as dictionary\n",
    "                ingredients_list.append({\n",
    "                    \"Ingredient\": ingredient_name,\n",
    "                    \"Quantity\": quantity\n",
    "                })\n",
    "    \n",
    "        return ingredients_list\n",
    "\n",
    "\n",
    "    def to_dataframe(self):\n",
    "        \"\"\"Converts extracted recipe details to a pandas DataFrame.\"\"\"\n",
    "        return pd.DataFrame([{\n",
    "            'Recipe name': self.get_title(),\n",
    "             **self.get_recipe_details(),\n",
    "            'Categories': self.get_additional_info(),\n",
    "            **self.get_preparation_and_baking_time(),\n",
    "            'Portions': self.get_portions(),           \n",
    "            'Ingredients': self.get_ingredients(),\n",
    "            **self.get_nutrition_data()\n",
    "        }])"
   ]
  },
  {
   "cell_type": "code",
   "execution_count": 22,
   "id": "e0569062",
   "metadata": {},
   "outputs": [],
   "source": [
    "# Defining XML file paths\n",
    "file_paths = [\n",
    "    r'C:\\Users\\Bálint\\Desktop\\Asztal\\Projekt\\inputs\\receptek_url.xml',\n",
    "    r'C:\\Users\\Bálint\\Desktop\\Asztal\\Projekt\\inputs\\receptek_url_2.xml',\n",
    "    r'C:\\Users\\Bálint\\Desktop\\Asztal\\Projekt\\inputs\\receptek_url_3.xml'\n",
    "]\n",
    "\n",
    "# Processing all URLs\n",
    "all_urls = []\n",
    "for file_path in file_paths:\n",
    "    urls = RecipeScraper.extract_urls_from_xml(file_path, check_url_format=True)\n",
    "    all_urls.extend(urls)"
   ]
  },
  {
   "cell_type": "code",
   "execution_count": 24,
   "id": "46aae3a0",
   "metadata": {},
   "outputs": [
    {
     "name": "stderr",
     "output_type": "stream",
     "text": [
      "Processing Recipes:   5%|██▋                                                 | 3614/71260 [1:08:11<16:59:08,  1.11it/s]"
     ]
    },
    {
     "name": "stdout",
     "output_type": "stream",
     "text": [
      "Error while processing https://www.nosalty.hu/recept/olga-almas \n"
     ]
    },
    {
     "name": "stderr",
     "output_type": "stream",
     "text": [
      "Processing Recipes:   5%|██▋                                                 | 3648/71260 [1:08:50<14:24:23,  1.30it/s]"
     ]
    },
    {
     "name": "stdout",
     "output_type": "stream",
     "text": [
      "Error while processing https://www.nosalty.hu/recept/hideg-gorog-gyumolcsleves-fozes-nelkul \n"
     ]
    },
    {
     "name": "stderr",
     "output_type": "stream",
     "text": [
      "Processing Recipes:   5%|██▋                                                 | 3749/71260 [1:10:45<15:37:59,  1.20it/s]"
     ]
    },
    {
     "name": "stdout",
     "output_type": "stream",
     "text": [
      "Error while processing https://www.nosalty.hu/recept/flan-napolitano \n"
     ]
    },
    {
     "name": "stderr",
     "output_type": "stream",
     "text": [
      "Processing Recipes:   7%|███▋                                                | 5000/71260 [1:34:52<20:40:17,  1.12s/it]"
     ]
    },
    {
     "name": "stdout",
     "output_type": "stream",
     "text": [
      "Processed 5000/71260 URLs. Successful recipes: 4997. Elapsed time: 5692.42 seconds.\n"
     ]
    },
    {
     "name": "stderr",
     "output_type": "stream",
     "text": [
      "Processing Recipes:   7%|███▋                                                | 5010/71260 [1:35:12<70:18:09,  3.82s/it]"
     ]
    },
    {
     "name": "stdout",
     "output_type": "stream",
     "text": [
      "Error while processing https://www.nosalty.hu/recept/borban-parolt-zoldsegek \n"
     ]
    },
    {
     "name": "stderr",
     "output_type": "stream",
     "text": [
      "Processing Recipes:  13%|██████▊                                             | 9399/71260 [3:03:51<68:39:54,  4.00s/it]"
     ]
    },
    {
     "name": "stdout",
     "output_type": "stream",
     "text": [
      "Error while processing https://www.nosalty.hu/recept/somloi-kocka \n"
     ]
    },
    {
     "name": "stderr",
     "output_type": "stream",
     "text": [
      "Processing Recipes:  13%|██████▊                                             | 9401/71260 [3:04:02<86:27:39,  5.03s/it]"
     ]
    },
    {
     "name": "stdout",
     "output_type": "stream",
     "text": [
      "Error while processing https://www.nosalty.hu/recept/sult-hekk-rizzsel \n"
     ]
    },
    {
     "name": "stderr",
     "output_type": "stream",
     "text": [
      "\r",
      "Processing Recipes:  13%|██████▋                                            | 9402/71260 [3:04:12<112:30:07,  6.55s/it]"
     ]
    },
    {
     "name": "stdout",
     "output_type": "stream",
     "text": [
      "Error while processing https://www.nosalty.hu/recept/sult-turos-nutellas-palacsinta \n"
     ]
    },
    {
     "name": "stderr",
     "output_type": "stream",
     "text": [
      "\r",
      "Processing Recipes:  13%|██████▋                                            | 9403/71260 [3:04:22<130:41:35,  7.61s/it]"
     ]
    },
    {
     "name": "stdout",
     "output_type": "stream",
     "text": [
      "Error while processing https://www.nosalty.hu/recept/husos-samosa-snidlinges-fokhagymas-martogatossal \n"
     ]
    },
    {
     "name": "stderr",
     "output_type": "stream",
     "text": [
      "Processing Recipes:  13%|██████▊                                             | 9411/71260 [3:04:46<45:34:33,  2.65s/it]"
     ]
    },
    {
     "name": "stdout",
     "output_type": "stream",
     "text": [
      "Error while processing https://www.nosalty.hu/recept/tejszines-kelkaposztaleves \n"
     ]
    },
    {
     "name": "stderr",
     "output_type": "stream",
     "text": [
      "\r",
      "Processing Recipes:  13%|██████▊                                             | 9413/71260 [3:04:47<30:38:42,  1.78s/it]"
     ]
    },
    {
     "name": "stdout",
     "output_type": "stream",
     "text": [
      "Error while processing https://www.nosalty.hu/recept/edes-babos-retes \n",
      "Error while processing https://www.nosalty.hu/recept/thai-daralt-husos-uvegteszta \n"
     ]
    },
    {
     "name": "stderr",
     "output_type": "stream",
     "text": [
      "Processing Recipes:  13%|███████                                              | 9422/71260 [3:04:50<8:06:25,  2.12it/s]"
     ]
    },
    {
     "name": "stdout",
     "output_type": "stream",
     "text": [
      "Error while processing https://www.nosalty.hu/recept/pesto-s-csirkeszarnyak \n",
      "Error while processing https://www.nosalty.hu/recept/kinai-rizses-csirke \n",
      "Error while processing https://www.nosalty.hu/recept/rozmaringos-kacsa \n",
      "Error while processing https://www.nosalty.hu/recept/roszti-3 \n",
      "Error while processing https://www.nosalty.hu/recept/zacskoban-sult-tarja-zoldsegekkel \n",
      "Error while processing https://www.nosalty.hu/recept/gyumolcsos-palacsintakehely \n"
     ]
    },
    {
     "name": "stderr",
     "output_type": "stream",
     "text": [
      "\r",
      "Processing Recipes:  13%|███████                                              | 9425/71260 [3:04:50<5:32:51,  3.10it/s]"
     ]
    },
    {
     "name": "stdout",
     "output_type": "stream",
     "text": [
      "Error while processing https://www.nosalty.hu/recept/csirke-pataki-talban-burgonyaval-gyumolcsokkel \n",
      "Error while processing https://www.nosalty.hu/recept/teli-gyumolcskehely \n",
      "Error while processing https://www.nosalty.hu/recept/tormas-sonkatekercsek-3 \n",
      "Error while processing https://www.nosalty.hu/recept/szines-rakott-kinai-kel \n"
     ]
    },
    {
     "name": "stderr",
     "output_type": "stream",
     "text": [
      "\r",
      "Processing Recipes:  13%|███████                                              | 9427/71260 [3:04:50<5:12:19,  3.30it/s]"
     ]
    },
    {
     "name": "stdout",
     "output_type": "stream",
     "text": [
      "Error while processing https://www.nosalty.hu/recept/maktorta-10-csokolades-meggymartassal \n",
      "Error while processing https://www.nosalty.hu/recept/mogyorokremmel-toltott-narancsos-muffin \n"
     ]
    },
    {
     "name": "stderr",
     "output_type": "stream",
     "text": [
      "\r",
      "Processing Recipes:  13%|███████                                              | 9430/71260 [3:04:52<6:39:35,  2.58it/s]"
     ]
    },
    {
     "name": "stdout",
     "output_type": "stream",
     "text": [
      "Error while processing https://www.nosalty.hu/recept/majonezes-burgonyasalata-6-szojajoghurttal \n",
      "Error while processing https://www.nosalty.hu/recept/pillecukros-csokis-halmok \n"
     ]
    },
    {
     "name": "stderr",
     "output_type": "stream",
     "text": [
      "Processing Recipes:  13%|███████                                              | 9437/71260 [3:04:56<7:30:59,  2.28it/s]"
     ]
    },
    {
     "name": "stdout",
     "output_type": "stream",
     "text": [
      "Error while processing https://www.nosalty.hu/recept/sult-fokhagymas-juhturos-piritos \n",
      "Error while processing https://www.nosalty.hu/recept/katica-torta-4 \n",
      "Error while processing https://www.nosalty.hu/recept/dios-csiga-6 \n",
      "Error while processing https://www.nosalty.hu/recept/bananos-joghurt \n",
      "Error while processing https://www.nosalty.hu/recept/tukortojasos-rakott-krumpli \n",
      "Error while processing https://www.nosalty.hu/recept/normann-rizskremleves \n"
     ]
    },
    {
     "name": "stderr",
     "output_type": "stream",
     "text": [
      "Processing Recipes:  13%|███████                                              | 9445/71260 [3:04:56<3:07:21,  5.50it/s]"
     ]
    },
    {
     "name": "stdout",
     "output_type": "stream",
     "text": [
      "Error while processing https://www.nosalty.hu/recept/sajtos-lapcsanka-tocsni-14 \n",
      "Error while processing https://www.nosalty.hu/recept/sport-szelet-3-0 \n",
      "Error while processing https://www.nosalty.hu/recept/tepsis-hal-olajbogyoval \n",
      "Error while processing https://www.nosalty.hu/recept/kakaos-kalacs-9 \n",
      "Error while processing https://www.nosalty.hu/recept/kokuszkremes-torta-3-fondant-nal-bevonva \n",
      "Error while processing https://www.nosalty.hu/recept/csirkemell-kinai-modra-2 \n",
      "Error while processing https://www.nosalty.hu/recept/meggyleves-5-almaval \n"
     ]
    },
    {
     "name": "stderr",
     "output_type": "stream",
     "text": [
      "\r",
      "Processing Recipes:  13%|███████                                              | 9448/71260 [3:04:56<2:26:39,  7.02it/s]"
     ]
    },
    {
     "name": "stdout",
     "output_type": "stream",
     "text": [
      "Error while processing https://www.nosalty.hu/recept/paradicsomsalata-5-burgonyas \n",
      "Error while processing https://www.nosalty.hu/recept/omlett-11-tarkonnyal \n"
     ]
    },
    {
     "name": "stderr",
     "output_type": "stream",
     "text": [
      "Processing Recipes:  13%|███████                                              | 9454/71260 [3:04:58<2:59:05,  5.75it/s]"
     ]
    },
    {
     "name": "stdout",
     "output_type": "stream",
     "text": [
      "Error while processing https://www.nosalty.hu/recept/baconnel-mozzarellaval-toltott-gombafejek \n",
      "Error while processing https://www.nosalty.hu/recept/sult-hagymas-sajtos-muffin \n",
      "Error while processing https://www.nosalty.hu/recept/farsangi-torta \n",
      "Error while processing https://www.nosalty.hu/recept/zold-teas-panna-cotta-csokiszosszal \n",
      "Error while processing https://www.nosalty.hu/recept/pizzalap-paradicsomszosz-4-olaszos \n"
     ]
    },
    {
     "name": "stderr",
     "output_type": "stream",
     "text": [
      "Processing Recipes:  13%|███████                                              | 9459/71260 [3:04:59<3:31:29,  4.87it/s]"
     ]
    },
    {
     "name": "stdout",
     "output_type": "stream",
     "text": [
      "Error while processing https://www.nosalty.hu/recept/ijaszhus \n",
      "Error while processing https://www.nosalty.hu/recept/truffel-9-zold-teas-rozsaborsos \n",
      "Error while processing https://www.nosalty.hu/recept/tejszines-sertesragu-zold-metelttel \n",
      "Error while processing https://www.nosalty.hu/recept/toltott-tojasok-husvetra \n",
      "Error while processing https://www.nosalty.hu/recept/hagymas-husos-kacsazsir \n"
     ]
    },
    {
     "name": "stderr",
     "output_type": "stream",
     "text": [
      "\r",
      "Processing Recipes:  13%|███████                                              | 9462/71260 [3:04:59<2:40:14,  6.43it/s]"
     ]
    },
    {
     "name": "stdout",
     "output_type": "stream",
     "text": [
      "Error while processing https://www.nosalty.hu/recept/curry-s-rizs-2-zoldsegekkel \n",
      "Error while processing https://www.nosalty.hu/recept/csoki-mousse-5 \n",
      "Error while processing https://www.nosalty.hu/recept/leveles-csik \n"
     ]
    },
    {
     "name": "stderr",
     "output_type": "stream",
     "text": [
      "Processing Recipes:  13%|███████                                              | 9468/71260 [3:05:01<2:57:48,  5.79it/s]"
     ]
    },
    {
     "name": "stdout",
     "output_type": "stream",
     "text": [
      "Error while processing https://www.nosalty.hu/recept/bananos-sajttorta \n",
      "Error while processing https://www.nosalty.hu/recept/kaposztas-hagymas-pogacsa \n",
      "Error while processing https://www.nosalty.hu/recept/fank-17-almas \n",
      "Error while processing https://www.nosalty.hu/recept/francia-kremes-6-egyszeruen \n",
      "Error while processing https://www.nosalty.hu/recept/zoldseges-mini-muffin \n"
     ]
    },
    {
     "name": "stderr",
     "output_type": "stream",
     "text": [
      "Processing Recipes:  13%|███████                                              | 9474/71260 [3:05:01<1:44:58,  9.81it/s]"
     ]
    },
    {
     "name": "stdout",
     "output_type": "stream",
     "text": [
      "Error while processing https://www.nosalty.hu/recept/ceklasalata-7 \n",
      "Error while processing https://www.nosalty.hu/recept/almas-tortacska \n",
      "Error while processing https://www.nosalty.hu/recept/sargarepa-salata-7-grillezett \n",
      "Error while processing https://www.nosalty.hu/recept/citrompite-3-gyors-tojasmentes \n",
      "Error while processing https://www.nosalty.hu/recept/gnocchi-gruyere-sajttal-tejszinnel \n",
      "Error while processing https://www.nosalty.hu/recept/gnocchi-paradicsommal-pesto-val \n"
     ]
    },
    {
     "name": "stderr",
     "output_type": "stream",
     "text": [
      "Processing Recipes:  13%|███████                                              | 9480/71260 [3:05:01<1:13:16, 14.05it/s]"
     ]
    },
    {
     "name": "stdout",
     "output_type": "stream",
     "text": [
      "Error while processing https://www.nosalty.hu/recept/serpenyos-gnocchi \n",
      "Error while processing https://www.nosalty.hu/recept/vanilias-fahejas-kiflik \n",
      "Error while processing https://www.nosalty.hu/recept/epres-muffin \n",
      "Error while processing https://www.nosalty.hu/recept/almas-batyu \n",
      "Error while processing https://www.nosalty.hu/recept/maglyarakas-4-extra \n",
      "Error while processing https://www.nosalty.hu/recept/csokolades-kavetorta \n"
     ]
    },
    {
     "name": "stderr",
     "output_type": "stream",
     "text": [
      "Processing Recipes:  13%|███████▎                                               | 9486/71260 [3:05:01<54:46, 18.80it/s]"
     ]
    },
    {
     "name": "stdout",
     "output_type": "stream",
     "text": [
      "Error while processing https://www.nosalty.hu/recept/brownies-focirajongoknak \n",
      "Error while processing https://www.nosalty.hu/recept/atlanti-lazac-2 \n",
      "Error while processing https://www.nosalty.hu/recept/atlanti-lazac-1 \n",
      "Error while processing https://www.nosalty.hu/recept/daras-turoszelet-2 \n",
      "Error while processing https://www.nosalty.hu/recept/buzas-zoldsegkoret \n",
      "Error while processing https://www.nosalty.hu/recept/sult-husgolyok \n"
     ]
    },
    {
     "name": "stderr",
     "output_type": "stream",
     "text": [
      "\r",
      "Processing Recipes:  13%|███████▎                                               | 9490/71260 [3:05:01<47:08, 21.84it/s]"
     ]
    },
    {
     "name": "stdout",
     "output_type": "stream",
     "text": [
      "Error while processing https://www.nosalty.hu/recept/fank-18 \n",
      "Error while processing https://www.nosalty.hu/recept/pasztorrizs \n",
      "Error while processing https://www.nosalty.hu/recept/amerikai-palacsinta-7-kefires \n",
      "Error while processing https://www.nosalty.hu/recept/szilvatorta-3-fahejas \n"
     ]
    },
    {
     "name": "stderr",
     "output_type": "stream",
     "text": [
      "Processing Recipes:  13%|███████                                              | 9496/71260 [3:05:03<2:07:34,  8.07it/s]"
     ]
    },
    {
     "name": "stdout",
     "output_type": "stream",
     "text": [
      "Error while processing https://www.nosalty.hu/recept/hagymas-szalonnas-csirkemaj \n",
      "Error while processing https://www.nosalty.hu/recept/narancsszirupos-narancsos-suti \n",
      "Error while processing https://www.nosalty.hu/recept/csirkezuzas-becsinalt-leves \n"
     ]
    },
    {
     "name": "stderr",
     "output_type": "stream",
     "text": [
      "Processing Recipes:  14%|███████▏                                           | 10000/71260 [3:15:08<20:11:56,  1.19s/it]"
     ]
    },
    {
     "name": "stdout",
     "output_type": "stream",
     "text": [
      "Processed 10000/71260 URLs. Successful recipes: 9917. Elapsed time: 11708.14 seconds.\n"
     ]
    },
    {
     "name": "stderr",
     "output_type": "stream",
     "text": [
      "Processing Recipes:  17%|████████▊                                          | 12398/71260 [4:04:13<61:45:05,  3.78s/it]"
     ]
    },
    {
     "name": "stdout",
     "output_type": "stream",
     "text": [
      "Error while processing https://www.nosalty.hu/recept/kiskegyed-csokolades-pitetortaja \n"
     ]
    },
    {
     "name": "stderr",
     "output_type": "stream",
     "text": [
      "Processing Recipes:  19%|█████████▌                                         | 13423/71260 [4:25:39<66:55:28,  4.17s/it]"
     ]
    },
    {
     "name": "stdout",
     "output_type": "stream",
     "text": [
      "Error while processing https://www.nosalty.hu/recept/spenotos-ricottas-palacsintatekercsek \n"
     ]
    },
    {
     "name": "stderr",
     "output_type": "stream",
     "text": [
      "\r",
      "Processing Recipes:  19%|█████████▌                                         | 13424/71260 [4:25:49<95:04:55,  5.92s/it]"
     ]
    },
    {
     "name": "stdout",
     "output_type": "stream",
     "text": [
      "Error while processing https://www.nosalty.hu/recept/csirkeporkolt-zoldseges-lecsos-rizzsel \n"
     ]
    },
    {
     "name": "stderr",
     "output_type": "stream",
     "text": [
      "\r",
      "Processing Recipes:  19%|█████████▍                                        | 13425/71260 [4:25:59<114:48:09,  7.15s/it]"
     ]
    },
    {
     "name": "stdout",
     "output_type": "stream",
     "text": [
      "Error while processing https://www.nosalty.hu/recept/zoldseges-husos-teszta \n"
     ]
    },
    {
     "name": "stderr",
     "output_type": "stream",
     "text": [
      "Processing Recipes:  21%|██████████▋                                        | 15000/71260 [4:58:11<18:53:21,  1.21s/it]"
     ]
    },
    {
     "name": "stdout",
     "output_type": "stream",
     "text": [
      "Processed 15000/71260 URLs. Successful recipes: 14913. Elapsed time: 17891.77 seconds.\n"
     ]
    },
    {
     "name": "stderr",
     "output_type": "stream",
     "text": [
      "Processing Recipes:  28%|██████████████▎                                    | 20000/71260 [6:40:04<18:57:59,  1.33s/it]"
     ]
    },
    {
     "name": "stdout",
     "output_type": "stream",
     "text": [
      "Processed 20000/71260 URLs. Successful recipes: 19913. Elapsed time: 24004.89 seconds.\n"
     ]
    },
    {
     "name": "stderr",
     "output_type": "stream",
     "text": [
      "Processing Recipes:  34%|█████████████████▎                                 | 24225/71260 [8:06:25<50:46:29,  3.89s/it]"
     ]
    },
    {
     "name": "stdout",
     "output_type": "stream",
     "text": [
      "Error while processing https://www.nosalty.hu/recept/cukkinis-quesadilla \n"
     ]
    },
    {
     "name": "stderr",
     "output_type": "stream",
     "text": [
      "Processing Recipes:  35%|█████████████████▉                                 | 25000/71260 [8:22:20<18:28:56,  1.44s/it]"
     ]
    },
    {
     "name": "stdout",
     "output_type": "stream",
     "text": [
      "Processed 25000/71260 URLs. Successful recipes: 24912. Elapsed time: 30140.90 seconds.\n"
     ]
    },
    {
     "name": "stderr",
     "output_type": "stream",
     "text": [
      "Processing Recipes:  35%|█████████████████▉                                 | 25079/71260 [8:24:05<48:46:51,  3.80s/it]"
     ]
    },
    {
     "name": "stdout",
     "output_type": "stream",
     "text": [
      "Error while processing https://www.nosalty.hu/recept/szilvas-kocka \n"
     ]
    },
    {
     "name": "stderr",
     "output_type": "stream",
     "text": [
      "Processing Recipes:  42%|█████████████████████                             | 30000/71260 [10:04:49<16:04:41,  1.40s/it]"
     ]
    },
    {
     "name": "stdout",
     "output_type": "stream",
     "text": [
      "Processed 30000/71260 URLs. Successful recipes: 29911. Elapsed time: 36289.55 seconds.\n"
     ]
    },
    {
     "name": "stderr",
     "output_type": "stream",
     "text": [
      "Processing Recipes:  46%|███████████████████████▏                          | 33068/71260 [11:08:30<41:26:32,  3.91s/it]"
     ]
    },
    {
     "name": "stdout",
     "output_type": "stream",
     "text": [
      "Error while processing https://www.nosalty.hu/recept/ciabatta-evi-neni-konyhajabol \n"
     ]
    },
    {
     "name": "stderr",
     "output_type": "stream",
     "text": [
      "Processing Recipes:  49%|████████████████████████▌                         | 35000/71260 [11:48:29<12:36:35,  1.25s/it]"
     ]
    },
    {
     "name": "stdout",
     "output_type": "stream",
     "text": [
      "Processed 35000/71260 URLs. Successful recipes: 34910. Elapsed time: 42509.24 seconds.\n"
     ]
    },
    {
     "name": "stderr",
     "output_type": "stream",
     "text": [
      "Processing Recipes:  50%|█████████████████████████▏                        | 35852/71260 [12:06:47<38:53:34,  3.95s/it]"
     ]
    },
    {
     "name": "stdout",
     "output_type": "stream",
     "text": [
      "Error while processing https://www.nosalty.hu/recept/cseresznyes-pitetorta-zsuzsamamatol \n"
     ]
    },
    {
     "name": "stderr",
     "output_type": "stream",
     "text": [
      "Processing Recipes:  56%|████████████████████████████                      | 40000/71260 [13:33:19<11:24:13,  1.31s/it]"
     ]
    },
    {
     "name": "stdout",
     "output_type": "stream",
     "text": [
      "Processed 40000/71260 URLs. Successful recipes: 39909. Elapsed time: 48799.63 seconds.\n"
     ]
    },
    {
     "name": "stderr",
     "output_type": "stream",
     "text": [
      "Processing Recipes:  56%|████████████████████████████▏                     | 40086/71260 [13:35:16<33:35:33,  3.88s/it]"
     ]
    },
    {
     "name": "stdout",
     "output_type": "stream",
     "text": [
      "Error while processing https://www.nosalty.hu/recept/palocleves-ahogy-sylvia-kesziti \n"
     ]
    },
    {
     "name": "stderr",
     "output_type": "stream",
     "text": [
      "\r",
      "Processing Recipes:  56%|████████████████████████████▏                     | 40087/71260 [13:35:26<49:30:41,  5.72s/it]"
     ]
    },
    {
     "name": "stdout",
     "output_type": "stream",
     "text": [
      "Error while processing https://www.nosalty.hu/recept/vadkovaszos-bukta \n"
     ]
    },
    {
     "name": "stderr",
     "output_type": "stream",
     "text": [
      "\r",
      "Processing Recipes:  56%|████████████████████████████▏                     | 40088/71260 [13:35:36<60:40:34,  7.01s/it]"
     ]
    },
    {
     "name": "stdout",
     "output_type": "stream",
     "text": [
      "Error while processing https://www.nosalty.hu/recept/rakott-csirkemell-sonkaval-gombaval-sajttal \n"
     ]
    },
    {
     "name": "stderr",
     "output_type": "stream",
     "text": [
      "Processing Recipes:  56%|████████████████████████████▏                     | 40090/71260 [13:35:49<60:10:37,  6.95s/it]"
     ]
    },
    {
     "name": "stdout",
     "output_type": "stream",
     "text": [
      "Error while processing https://www.nosalty.hu/recept/egeszsegesebb-pizzateszta \n"
     ]
    },
    {
     "name": "stderr",
     "output_type": "stream",
     "text": [
      "\r",
      "Processing Recipes:  56%|████████████████████████████▏                     | 40091/71260 [13:35:59<68:07:44,  7.87s/it]"
     ]
    },
    {
     "name": "stdout",
     "output_type": "stream",
     "text": [
      "Error while processing https://www.nosalty.hu/recept/tarkonyos-raguleves-citrommal \n"
     ]
    },
    {
     "name": "stderr",
     "output_type": "stream",
     "text": [
      "\r",
      "Processing Recipes:  56%|████████████████████████████▏                     | 40092/71260 [13:36:09<73:41:35,  8.51s/it]"
     ]
    },
    {
     "name": "stdout",
     "output_type": "stream",
     "text": [
      "Error while processing https://www.nosalty.hu/recept/mac-and-cheese-gonoszka-konyhajabol \n"
     ]
    },
    {
     "name": "stderr",
     "output_type": "stream",
     "text": [
      "Processing Recipes:  60%|██████████████████████████████▏                   | 43090/71260 [14:39:26<30:42:50,  3.93s/it]"
     ]
    },
    {
     "name": "stdout",
     "output_type": "stream",
     "text": [
      "Error while processing https://www.nosalty.hu/recept/dios-sullyesztett-racsos-pite \n"
     ]
    },
    {
     "name": "stderr",
     "output_type": "stream",
     "text": [
      "Processing Recipes:  63%|████████████████████████████████▏                  | 45000/71260 [15:18:23<8:06:19,  1.11s/it]"
     ]
    },
    {
     "name": "stdout",
     "output_type": "stream",
     "text": [
      "Processed 45000/71260 URLs. Successful recipes: 44902. Elapsed time: 55103.64 seconds.\n"
     ]
    },
    {
     "name": "stderr",
     "output_type": "stream",
     "text": [
      "Processing Recipes:  69%|██████████████████████████████████▍               | 49106/71260 [16:40:14<23:01:27,  3.74s/it]"
     ]
    },
    {
     "name": "stdout",
     "output_type": "stream",
     "text": [
      "Error while processing https://www.nosalty.hu/recept/epres-pite-lesteria-konyhajabol \n"
     ]
    },
    {
     "name": "stderr",
     "output_type": "stream",
     "text": [
      "Processing Recipes:  70%|███████████████████████████████████▊               | 50001/71260 [16:57:27<5:34:09,  1.06it/s]"
     ]
    },
    {
     "name": "stdout",
     "output_type": "stream",
     "text": [
      "Processed 50000/71260 URLs. Successful recipes: 49901. Elapsed time: 61047.13 seconds.\n"
     ]
    },
    {
     "name": "stderr",
     "output_type": "stream",
     "text": [
      "Processing Recipes:  77%|███████████████████████████████████████▎           | 55000/71260 [18:33:06<5:19:06,  1.18s/it]"
     ]
    },
    {
     "name": "stdout",
     "output_type": "stream",
     "text": [
      "Processed 55000/71260 URLs. Successful recipes: 54901. Elapsed time: 66786.44 seconds.\n"
     ]
    },
    {
     "name": "stderr",
     "output_type": "stream",
     "text": [
      "Processing Recipes:  80%|████████████████████████████████████████▏         | 57329/71260 [19:16:44<14:19:22,  3.70s/it]"
     ]
    },
    {
     "name": "stdout",
     "output_type": "stream",
     "text": [
      "Error while processing https://www.nosalty.hu/recept/csicsokas-savanyukaposzta-kremleves \n"
     ]
    },
    {
     "name": "stderr",
     "output_type": "stream",
     "text": [
      "Processing Recipes:  84%|██████████████████████████████████████████▉        | 60000/71260 [20:07:21<3:57:22,  1.26s/it]"
     ]
    },
    {
     "name": "stdout",
     "output_type": "stream",
     "text": [
      "Processed 60000/71260 URLs. Successful recipes: 59900. Elapsed time: 72441.35 seconds.\n"
     ]
    },
    {
     "name": "stderr",
     "output_type": "stream",
     "text": [
      "Processing Recipes:  89%|█████████████████████████████████████████████▍     | 63483/71260 [21:13:57<8:09:11,  3.77s/it]"
     ]
    },
    {
     "name": "stdout",
     "output_type": "stream",
     "text": [
      "Error while processing https://www.nosalty.hu/recept/barnasoros-csokoladetorta \n"
     ]
    },
    {
     "name": "stderr",
     "output_type": "stream",
     "text": [
      "Processing Recipes:  91%|██████████████████████████████████████████████▌    | 65000/71260 [21:42:39<2:15:23,  1.30s/it]"
     ]
    },
    {
     "name": "stdout",
     "output_type": "stream",
     "text": [
      "Processed 65000/71260 URLs. Successful recipes: 64899. Elapsed time: 78159.37 seconds.\n"
     ]
    },
    {
     "name": "stderr",
     "output_type": "stream",
     "text": [
      "Processing Recipes:  98%|████████████████████████████████████████████████████ | 70000/71260 [23:24:34<25:06,  1.20s/it]"
     ]
    },
    {
     "name": "stdout",
     "output_type": "stream",
     "text": [
      "Processed 70000/71260 URLs. Successful recipes: 69899. Elapsed time: 84274.05 seconds.\n"
     ]
    },
    {
     "name": "stderr",
     "output_type": "stream",
     "text": [
      "Processing Recipes:  99%|████████████████████████████████████████████████████▍| 70440/71260 [23:33:48<54:29,  3.99s/it]"
     ]
    },
    {
     "name": "stdout",
     "output_type": "stream",
     "text": [
      "Error while processing https://www.nosalty.hu/recept/nasi-goreng-indonez-piritott-rizs \n"
     ]
    },
    {
     "name": "stderr",
     "output_type": "stream",
     "text": [
      "\r",
      "Processing Recipes:  99%|██████████████████████████████████████████████████▍| 70441/71260 [23:33:58<1:19:05,  5.79s/it]"
     ]
    },
    {
     "name": "stdout",
     "output_type": "stream",
     "text": [
      "Error while processing https://www.nosalty.hu/recept/joghurtos-vajas-kifli \n"
     ]
    },
    {
     "name": "stderr",
     "output_type": "stream",
     "text": [
      "\r",
      "Processing Recipes:  99%|██████████████████████████████████████████████████▍| 70442/71260 [23:34:08<1:36:15,  7.06s/it]"
     ]
    },
    {
     "name": "stdout",
     "output_type": "stream",
     "text": [
      "Error while processing https://www.nosalty.hu/recept/turos-vanilias-parna-lekvarral \n"
     ]
    },
    {
     "name": "stderr",
     "output_type": "stream",
     "text": [
      "Processing Recipes:  99%|████████████████████████████████████████████████████▌| 70750/71260 [23:40:36<35:13,  4.14s/it]"
     ]
    },
    {
     "name": "stdout",
     "output_type": "stream",
     "text": [
      "Error while processing https://www.nosalty.hu/recept/sajtos-rakott-cukkini-szaftos-raguval \n"
     ]
    },
    {
     "name": "stderr",
     "output_type": "stream",
     "text": [
      "\r",
      "Processing Recipes:  99%|████████████████████████████████████████████████████▌| 70751/71260 [23:40:46<50:05,  5.90s/it]"
     ]
    },
    {
     "name": "stdout",
     "output_type": "stream",
     "text": [
      "Error while processing https://www.nosalty.hu/recept/sult-varganya-szelet-gesztenyevel \n"
     ]
    },
    {
     "name": "stderr",
     "output_type": "stream",
     "text": [
      "\r",
      "Processing Recipes:  99%|██████████████████████████████████████████████████▋| 70752/71260 [23:40:57<1:00:25,  7.14s/it]"
     ]
    },
    {
     "name": "stdout",
     "output_type": "stream",
     "text": [
      "Error while processing https://www.nosalty.hu/recept/nagy-ozlabspagetti \n"
     ]
    },
    {
     "name": "stderr",
     "output_type": "stream",
     "text": [
      "Processing Recipes:  99%|████████████████████████████████████████████████████▋| 70772/71260 [23:41:34<37:32,  4.62s/it]"
     ]
    },
    {
     "name": "stdout",
     "output_type": "stream",
     "text": [
      "Error while processing https://www.nosalty.hu/recept/kekszszalami-keksz-datolya-pisztacia-cukormentes \n"
     ]
    },
    {
     "name": "stderr",
     "output_type": "stream",
     "text": [
      "Processing Recipes:  99%|████████████████████████████████████████████████████▋| 70788/71260 [23:41:45<06:59,  1.13it/s]"
     ]
    },
    {
     "name": "stdout",
     "output_type": "stream",
     "text": [
      "Error while processing https://www.nosalty.hu/recept/narancskenyer-narancslikorrel \n",
      "Error while processing https://www.nosalty.hu/recept/finom-almas-suti \n",
      "Error while processing https://www.nosalty.hu/recept/csirkecomb-gombas-tejfolos-szoszban \n",
      "Error while processing https://www.nosalty.hu/recept/hasselback-burgonya-avagy-a-sved-burgonya \n",
      "Error while processing https://www.nosalty.hu/recept/krumplis-cukkinis-lepeny \n",
      "Error while processing https://www.nosalty.hu/recept/mandulas-almas-pite \n",
      "Error while processing https://www.nosalty.hu/recept/sargabaracklekvaros-bukta \n",
      "Error while processing https://www.nosalty.hu/recept/klasszikus-darazsfeszek \n",
      "Error while processing https://www.nosalty.hu/recept/egyszeru-bundas-alma \n",
      "Error while processing https://www.nosalty.hu/recept/koktel-gin-fizz-feketeribizli-halloween \n",
      "Error while processing https://www.nosalty.hu/recept/chili-vega-sutotok-bab-nachos-jalapeno \n",
      "Error while processing https://www.nosalty.hu/recept/sajtkremleves-sajt-leves \n",
      "Error while processing https://www.nosalty.hu/recept/komenymagleves-rantott-leves-olcso-gyors \n",
      "Error while processing https://www.nosalty.hu/recept/tojasleves-olcso-gyors \n",
      "Error while processing https://www.nosalty.hu/recept/olasz-rakott-kel \n",
      "Error while processing https://www.nosalty.hu/recept/muffin-citrom-joghurt-konnyu-puha \n",
      "Error while processing https://www.nosalty.hu/recept/sutotokos-kevert-sutemeny \n",
      "Error while processing https://www.nosalty.hu/recept/almas-pite-omlos-tejfol-nagymama-recept \n",
      "Error while processing https://www.nosalty.hu/recept/almaval-toltott-mezes-csirke \n",
      "Error while processing https://www.nosalty.hu/recept/chilis-sult-csirke-fuszeres-ceklaval-es-burgonyaval \n",
      "Error while processing https://www.nosalty.hu/recept/sushi-henriett-modra \n",
      "Error while processing https://www.nosalty.hu/recept/joghurtmento-zsemle \n",
      "Error while processing https://www.nosalty.hu/recept/gnocchi-sutoben-besutve \n",
      "Error while processing https://www.nosalty.hu/recept/hagymas-tort-sutotok \n",
      "Error while processing https://www.nosalty.hu/recept/roppanos-sutotokkrokett \n",
      "Error while processing https://www.nosalty.hu/recept/egyszeru-sutotoknudli \n",
      "Error while processing https://www.nosalty.hu/recept/legkremesebb-sutotokpure \n",
      "Error while processing https://www.nosalty.hu/recept/egyszeru-sutotoktocsni \n",
      "Error while processing https://www.nosalty.hu/recept/banankenyer-csiga \n",
      "Error while processing https://www.nosalty.hu/recept/hazi-pilota-keksz \n",
      "Error while processing https://www.nosalty.hu/recept/konnyed-sult-sutotokremleves-osz-leves-fahej \n",
      "Error while processing https://www.nosalty.hu/recept/almaleves \n",
      "Error while processing https://www.nosalty.hu/recept/halloweeni-csokis-keksz \n",
      "Error while processing https://www.nosalty.hu/recept/gyomberes-csirkeleves-megfazas-ellen \n"
     ]
    },
    {
     "name": "stderr",
     "output_type": "stream",
     "text": [
      "Processing Recipes:  99%|████████████████████████████████████████████████████▋| 70845/71260 [23:41:45<00:53,  7.71it/s]"
     ]
    },
    {
     "name": "stdout",
     "output_type": "stream",
     "text": [
      "Error while processing https://www.nosalty.hu/recept/tejszines-pulykaragu \n",
      "Error while processing https://www.nosalty.hu/recept/sutotok-tarte-tatin-forditott-pite \n",
      "Error while processing https://www.nosalty.hu/recept/sutotok-dio-piskota-tekercs-bosch-mascarpone-robotgep-osz-adventvaro \n",
      "Error while processing https://www.nosalty.hu/recept/egyszeru-paradicsomos-gombaleves-nokedlivel \n",
      "Error while processing https://www.nosalty.hu/recept/avokados-csirkes-teszta-gyorsan \n",
      "Error while processing https://www.nosalty.hu/recept/spenotos-omlett \n",
      "Error while processing https://www.nosalty.hu/recept/pan-de-muerto \n",
      "Error while processing https://www.nosalty.hu/recept/csemegeuborka-leveben-pacolt-sult-csirke-zoldfuszeres-uborkas-burgonyasalataval \n",
      "Error while processing https://www.nosalty.hu/recept/mezes-granola \n",
      "Error while processing https://www.nosalty.hu/recept/magyaros-burgonyaleves-kolbasszal \n",
      "Error while processing https://www.nosalty.hu/recept/bejglicsiga-cukormentes-bejgli-mak-dio-unnep \n",
      "Error while processing https://www.nosalty.hu/recept/meggyes-pite-egeszsegesen \n",
      "Error while processing https://www.nosalty.hu/recept/makos-teljes-kiorlesu-keksz \n",
      "Error while processing https://www.nosalty.hu/recept/sutoben-sutott-currys-irdalt-hekk \n",
      "Error while processing https://www.nosalty.hu/recept/egyszeru-dutch-baby-palacsinta \n",
      "Error while processing https://www.nosalty.hu/recept/finn-tepsis-palacsinta-pannukakku \n",
      "Error while processing https://www.nosalty.hu/recept/kimchis-grillezett-sajtos-szendvics \n",
      "Error while processing https://www.nosalty.hu/recept/leveles-kosarka-fustolt-lazacos-sajtkremmel \n",
      "Error while processing https://www.nosalty.hu/recept/boroka-szirupos-mocktail \n",
      "Error while processing https://www.nosalty.hu/recept/majjal-rakott-burgonya \n",
      "Error while processing https://www.nosalty.hu/recept/hagyomanyos-ludaskasa-martonap-libanap-libaaprolek-libahus-egytaletel-recept \n",
      "Error while processing https://www.nosalty.hu/recept/fetas-kaposztasalataval-toltott-sult-edesburgonya \n",
      "Error while processing https://www.nosalty.hu/recept/lilakaposzta-kremleves-citrommal-tejszinnel \n",
      "Error while processing https://www.nosalty.hu/recept/pekandios-aranygaluska \n",
      "Error while processing https://www.nosalty.hu/recept/sult-fahejas-alma-pudingos-martassal \n",
      "Error while processing https://www.nosalty.hu/recept/pulykamell-husos-toltelekkel \n",
      "Error while processing https://www.nosalty.hu/recept/hazi-libatoportyu \n",
      "Error while processing https://www.nosalty.hu/recept/marry-me-chicken-gyere-hozzam-felesegul-csirke \n",
      "Error while processing https://www.nosalty.hu/recept/pinceporkolt \n",
      "Error while processing https://www.nosalty.hu/recept/rantott-lazac \n",
      "Error while processing https://www.nosalty.hu/recept/gyors-piros-curry-s-leves \n",
      "Error while processing https://www.nosalty.hu/recept/parolt-lilakaposzta-vorosborral \n",
      "Error while processing https://www.nosalty.hu/recept/pasztinakos-burgonyaval-egyben-sult-zabpelyhes-fasirtgolyok \n",
      "Error while processing https://www.nosalty.hu/recept/dios-datolyas-desszertgolyo \n",
      "Error while processing https://www.nosalty.hu/recept/angyalvaro-fekete-szepias-spagetti \n",
      "Error while processing https://www.nosalty.hu/recept/egyszeru-piritott-rizs \n",
      "Error while processing https://www.nosalty.hu/recept/laktato-rizssalata \n",
      "Error while processing https://www.nosalty.hu/recept/almas-meggyes-morzsapite \n",
      "Error while processing https://www.nosalty.hu/recept/unnepi-pulykatekercs-dio-aszalt-afonya \n",
      "Error while processing https://www.nosalty.hu/recept/egyszeru-rongyos-kifli \n",
      "Error while processing https://www.nosalty.hu/recept/vaniliakremes-maktorta \n",
      "Error while processing https://www.nosalty.hu/recept/sutotokos-pekandios-sajttorta-kocka \n",
      "Error while processing https://www.nosalty.hu/recept/vegan-unnepi-lencsesalata \n",
      "Error while processing https://www.nosalty.hu/recept/csirke-tikka-masala-naan-kenyer-rizs-india-tandoori \n",
      "Error while processing https://www.nosalty.hu/recept/almakompot-cukormentesen \n",
      "Error while processing https://www.nosalty.hu/recept/spagetti-fokhagyma-olivaolaj-chili \n",
      "Error while processing https://www.nosalty.hu/recept/olasz-karfiolkremleves-prosciutto-crudo-sonka-parmezan \n",
      "Error while processing https://www.nosalty.hu/recept/egyszeru-tonhalas-teszta \n",
      "Error while processing https://www.nosalty.hu/recept/bejgli-fatorzs \n",
      "Error while processing https://www.nosalty.hu/recept/bogres-mezeskalacs-glutenmentesen \n",
      "Error while processing https://www.nosalty.hu/recept/brownie-toboz-suti-sutes-nelkul \n",
      "Error while processing https://www.nosalty.hu/recept/ropogos-pulyka-schnitzel-zsalyas-salsa-verdevel-orzo-al-limone-val \n",
      "Error while processing https://www.nosalty.hu/recept/marcipanos-turos-stollen-1 \n",
      "Error while processing https://www.nosalty.hu/recept/repatortaszelet-narancsos-mascarponekremmel-marcipannal \n",
      "Error while processing https://www.nosalty.hu/recept/trufffeltorta-truffelcsokkal \n",
      "Error while processing https://www.nosalty.hu/recept/csokolades-keksz \n",
      "Error while processing https://www.nosalty.hu/recept/csokis-malnas-sajttorta \n",
      "Error while processing https://www.nosalty.hu/recept/fedak-torta \n",
      "Error while processing https://www.nosalty.hu/recept/hokifli-1 \n",
      "Error while processing https://www.nosalty.hu/recept/aranydurbincsfile-tejszines-gombaval-es-polentaval \n",
      "Error while processing https://www.nosalty.hu/recept/csirkes-zoldseges-tesztatorta \n",
      "Error while processing https://www.nosalty.hu/recept/stroganoff-belszin-marha-gomba-ragu \n",
      "Error while processing https://www.nosalty.hu/recept/borkremleves \n",
      "Error while processing https://www.nosalty.hu/recept/egyszeru-parolt-kaposzta-sultek-melle \n",
      "Error while processing https://www.nosalty.hu/recept/krumplitorta \n",
      "Error while processing https://www.nosalty.hu/recept/kunta-kinte-meteres-kalacs \n",
      "Error while processing https://www.nosalty.hu/recept/dios-csokoladetorta-cukormentesen \n",
      "Error while processing https://www.nosalty.hu/recept/epres-tejszines-turo-szelet \n",
      "Error while processing https://www.nosalty.hu/recept/mezes-kremes-poharkrem \n",
      "Error while processing https://www.nosalty.hu/recept/sakktabla-fonassal-keszult-kigyoretes \n",
      "Error while processing https://www.nosalty.hu/recept/kelt-belga-gofri-gaufre-de-liege \n",
      "Error while processing https://www.nosalty.hu/recept/bundaskenyer-gofri \n",
      "Error while processing https://www.nosalty.hu/recept/almas-kremes-hazilag \n",
      "Error while processing https://www.nosalty.hu/recept/ropogos-tocsnigofri \n",
      "Error while processing https://www.nosalty.hu/recept/karacsonyi-gyumolcskenyer \n",
      "Error while processing https://www.nosalty.hu/recept/kozaksapka-avagy-holabdatorta \n",
      "Error while processing https://www.nosalty.hu/recept/pizzas-gofri-sajttal \n",
      "Error while processing https://www.nosalty.hu/recept/teljes-kiorlesu-kovaszos-kenyer \n",
      "Error while processing https://www.nosalty.hu/recept/eclair-fank-csokival \n",
      "Error while processing https://www.nosalty.hu/recept/rigoletto-teasutemeny \n",
      "Error while processing https://www.nosalty.hu/recept/tokmagos-malnas-pite-gluten-cukormentesen-is \n",
      "Error while processing https://www.nosalty.hu/recept/sutotokos-piritott-dios-zsemle \n",
      "Error while processing https://www.nosalty.hu/recept/mascarpones-citromtorta \n",
      "Error while processing https://www.nosalty.hu/recept/daralt-husos-raguval-toltott-durumlisztes-csiga \n",
      "Error while processing https://www.nosalty.hu/recept/kurtoskalacs-sutoben \n",
      "Error while processing https://www.nosalty.hu/recept/rakoczi-turos-tart \n",
      "Error while processing https://www.nosalty.hu/recept/makos-tekercsek \n",
      "Error while processing https://www.nosalty.hu/recept/dubaj-csoki-poharkrem \n",
      "Error while processing https://www.nosalty.hu/recept/hazi-cipo \n",
      "Error while processing https://www.nosalty.hu/recept/mandulas-linzer-fahejas-szilvalekvarral \n",
      "Error while processing https://www.nosalty.hu/recept/tejszines-csikos-kalacs-1 \n",
      "Error while processing https://www.nosalty.hu/recept/turogomboc-fozes-nelkul-egyszeruen \n",
      "Error while processing https://www.nosalty.hu/recept/kacsacomb-zolfuszerekkel-es-vele-sult-edesburgonyaval \n",
      "Error while processing https://www.nosalty.hu/recept/panettone-cukorbetegeknek \n",
      "Error while processing https://www.nosalty.hu/recept/preckedli-dios-linzer-cukorbetegeknek \n",
      "Error while processing https://www.nosalty.hu/recept/tejfolos-sajtos-csirkecomb \n",
      "Error while processing https://www.nosalty.hu/recept/3-napos-mezeskalacs-sajttorta \n",
      "Error while processing https://www.nosalty.hu/recept/ceklacarpaccio \n",
      "Error while processing https://www.nosalty.hu/recept/ceklaravioli \n",
      "Error while processing https://www.nosalty.hu/recept/hagymas-rostelyos-csipos-mustaros-pacban \n",
      "Error while processing https://www.nosalty.hu/recept/egyszeru-francia-hagymaleves \n",
      "Error while processing https://www.nosalty.hu/recept/dubaji-csoki \n"
     ]
    },
    {
     "name": "stderr",
     "output_type": "stream",
     "text": [
      "Processing Recipes: 100%|████████████████████████████████████████████████████▊| 71051/71260 [23:41:45<00:03, 59.30it/s]"
     ]
    },
    {
     "name": "stdout",
     "output_type": "stream",
     "text": [
      "Error while processing https://www.nosalty.hu/recept/csipos-tatar-beefsteak \n",
      "Error while processing https://www.nosalty.hu/recept/karacsonyi-citromos-kevert-sutemeny \n",
      "Error while processing https://www.nosalty.hu/recept/sos-karamellas-mezeskalacs-torta \n",
      "Error while processing https://www.nosalty.hu/recept/sajtburger-falat-taska-burgerszosz \n",
      "Error while processing https://www.nosalty.hu/recept/rakoczi-turos-baracklekvarral \n",
      "Error while processing https://www.nosalty.hu/recept/csulok-sorben-sulve \n",
      "Error while processing https://www.nosalty.hu/recept/baileys-ir-kremlikor \n",
      "Error while processing https://www.nosalty.hu/recept/gyumolcskenyer-szaftos-puha \n",
      "Error while processing https://www.nosalty.hu/recept/selymes-kremes-tejfolos-harcsapaprikas-kapros-turos-csusza \n",
      "Error while processing https://www.nosalty.hu/recept/zsurek-zurek-lengyel-kovaszos-leves \n",
      "Error while processing https://www.nosalty.hu/recept/toltott-zokni \n",
      "Error while processing https://www.nosalty.hu/recept/berliner-1 \n",
      "Error while processing https://www.nosalty.hu/recept/harcsapaprikas-1 \n",
      "Error while processing https://www.nosalty.hu/recept/makosguba-kocka-hazilag-keszitett-kiflibol \n",
      "Error while processing https://www.nosalty.hu/recept/mascaropnes-malnas-szelet \n",
      "Error while processing https://www.nosalty.hu/recept/unnepi-tyukhusleves \n",
      "Error while processing https://www.nosalty.hu/recept/kepviselofank-fozott-csokoladekremmel \n",
      "Error while processing https://www.nosalty.hu/recept/almas-viragkalacs \n",
      "Error while processing https://www.nosalty.hu/recept/amerikai-rakott-zoldbab \n",
      "Error while processing https://www.nosalty.hu/recept/olasz-narancsos-kuglof \n",
      "Error while processing https://www.nosalty.hu/recept/malnas-maktorta \n",
      "Error while processing https://www.nosalty.hu/recept/kokuszos-diohabos-csiga \n",
      "Error while processing https://www.nosalty.hu/recept/tojaslikor-1 \n",
      "Error while processing https://www.nosalty.hu/recept/baileys-es-bonbon \n",
      "Error while processing https://www.nosalty.hu/recept/tigris-kenyer-ropogosan \n",
      "Error while processing https://www.nosalty.hu/recept/makos-guba-poharkrem-szilvaval \n",
      "Error while processing https://www.nosalty.hu/recept/sonkas-sajtos-csirke-azaz-concorde-szelet \n",
      "Error while processing https://www.nosalty.hu/recept/muffin-aszalt-gyumolcsokkel \n",
      "Error while processing https://www.nosalty.hu/recept/lilarepas-tepertos-leveles-pogacsa \n",
      "Error while processing https://www.nosalty.hu/recept/erdei-gyumolcsos-grizes-kremes \n",
      "Error while processing https://www.nosalty.hu/recept/sorkrem-poharban \n",
      "Error while processing https://www.nosalty.hu/recept/furjtojasos-husgolyok-sutotokos-polentaagyon-narancsos-salataval \n",
      "Error while processing https://www.nosalty.hu/recept/fuszeres-aszalt-gyumolcsos-birsalma-sajt \n",
      "Error while processing https://www.nosalty.hu/recept/lisztmentes-maktorta-mascarpone-krem-venusz-napraforgo-olaj \n",
      "Error while processing https://www.nosalty.hu/recept/curry-burgonyafozelek-halrud-iglo-indiai \n",
      "Error while processing https://www.nosalty.hu/recept/tokeletes-kacsacomb-kacsamell \n",
      "Error while processing https://www.nosalty.hu/recept/hajas-teszta \n",
      "Error while processing https://www.nosalty.hu/recept/karacsonyi-fatorzs \n",
      "Error while processing https://www.nosalty.hu/recept/unnepi-edesburgonya-kremleves \n",
      "Error while processing https://www.nosalty.hu/recept/tormakremes-lazacos-falatkak \n",
      "Error while processing https://www.nosalty.hu/recept/tejfolos-majonezes-kagylosalata \n",
      "Error while processing https://www.nosalty.hu/recept/puszedli-cukorbetegeknek \n",
      "Error while processing https://www.nosalty.hu/recept/turokremes-labdabukta \n",
      "Error while processing https://www.nosalty.hu/recept/ropogos-kiflik \n",
      "Error while processing https://www.nosalty.hu/recept/paradicsomos-kaposzta-csicseriborsos-nuggets-szel \n",
      "Error while processing https://www.nosalty.hu/recept/zsebes-karaj-1 \n",
      "Error while processing https://www.nosalty.hu/recept/turos-szezammagos-rudak \n",
      "Error while processing https://www.nosalty.hu/recept/keksajtos-pisztacias-keksz \n",
      "Error while processing https://www.nosalty.hu/recept/flodni-torta-1 \n",
      "Error while processing https://www.nosalty.hu/recept/narancsos-forralt-bor \n",
      "Error while processing https://www.nosalty.hu/recept/baconba-tekert-aszalt-szilvas-pulykavagdalt \n",
      "Error while processing https://www.nosalty.hu/recept/fahejas-mogyoros-csillag \n",
      "Error while processing https://www.nosalty.hu/recept/mezes-torta-1 \n",
      "Error while processing https://www.nosalty.hu/recept/hortobagyi-husos-palacsinta-1 \n",
      "Error while processing https://www.nosalty.hu/recept/zoldfuszeres-sertescomb-tzatzikivel \n",
      "Error while processing https://www.nosalty.hu/recept/csokis-keksz-egyszeruen \n",
      "Error while processing https://www.nosalty.hu/recept/sos-vendegvaro-szelet \n",
      "Error while processing https://www.nosalty.hu/recept/dios-linzer-karacsonyfa \n",
      "Error while processing https://www.nosalty.hu/recept/csirkemelles-salata \n",
      "Error while processing https://www.nosalty.hu/recept/gesztenyekremleves-vorosboros-aszalt-afonyaval \n",
      "Error while processing https://www.nosalty.hu/recept/gesztenyetorta-1 \n",
      "Error while processing https://www.nosalty.hu/recept/glutenmentes-sajtos-rud \n",
      "Error while processing https://www.nosalty.hu/recept/dios-keksz-szveti-konyhajabol \n",
      "Error while processing https://www.nosalty.hu/recept/mogyoros-almascsiga-torta-tonkolylisztbol \n",
      "Error while processing https://www.nosalty.hu/recept/narancsos-pepita-szelet \n",
      "Error while processing https://www.nosalty.hu/recept/rakott-savanyu-kaposzta-szaftosan \n",
      "Error while processing https://www.nosalty.hu/recept/savanyu-kaposztas-csirkecomb \n",
      "Error while processing https://www.nosalty.hu/recept/gravlax-unnep-pacolt-lazac \n",
      "Error while processing https://www.nosalty.hu/recept/lazac-kremsajton-eloetel \n",
      "Error while processing https://www.nosalty.hu/recept/lazacos-burgonyatorta \n",
      "Error while processing https://www.nosalty.hu/recept/pulykamaj-pastetom-tokaji-aszuval \n",
      "Error while processing https://www.nosalty.hu/recept/aszalt-szilvaval-es-sonkaval-toltott-pulykamell \n",
      "Error while processing https://www.nosalty.hu/recept/citromos-tejfolos-halleves \n",
      "Error while processing https://www.nosalty.hu/recept/aszalt-afonyas-keksz \n",
      "Error while processing https://www.nosalty.hu/recept/eredeti-napolyi-pizza \n",
      "Error while processing https://www.nosalty.hu/recept/sziciliai-pisztacias-teszta \n",
      "Error while processing https://www.nosalty.hu/recept/keksztekercs-1 \n",
      "Error while processing https://www.nosalty.hu/recept/makosguba-tekercs \n",
      "Error while processing https://www.nosalty.hu/recept/aszaltgyumolcsos-pite \n",
      "Error while processing https://www.nosalty.hu/recept/mezeskalacs-csengettyu \n",
      "Error while processing https://www.nosalty.hu/recept/mezes-kremes-bejglivel-toltve \n",
      "Error while processing https://www.nosalty.hu/recept/angol-karacsonyi-puding-1 \n",
      "Error while processing https://www.nosalty.hu/recept/papanasi \n",
      "Error while processing https://www.nosalty.hu/recept/karacsonyi-choux \n",
      "Error while processing https://www.nosalty.hu/recept/adventi-kalacs \n",
      "Error while processing https://www.nosalty.hu/recept/bejglikoszoru \n",
      "Error while processing https://www.nosalty.hu/recept/dobos-kekszrolad \n",
      "Error while processing https://www.nosalty.hu/recept/meggyes-csokolades-szelet \n",
      "Error while processing https://www.nosalty.hu/recept/olasz-keksztekercs \n",
      "Error while processing https://www.nosalty.hu/recept/citrusos-fonott-kalacs-tojasfeherjevel \n",
      "Error while processing https://www.nosalty.hu/recept/datolyas-mezeskalacs-rugyek-aranybarnan \n",
      "Error while processing https://www.nosalty.hu/recept/etcsoki-mousse-tarte-afonyalekvarral \n",
      "Error while processing https://www.nosalty.hu/recept/stollwerck-szelet-1 \n",
      "Error while processing https://www.nosalty.hu/recept/grizes-mezes-1 \n",
      "Error while processing https://www.nosalty.hu/recept/turos-batyu-1 \n",
      "Error while processing https://www.nosalty.hu/recept/haraszt-nelkuli-lusta-asszony-toltott-kaposzta \n",
      "Error while processing https://www.nosalty.hu/recept/narancsos-csirkecombok \n",
      "Error while processing https://www.nosalty.hu/recept/ozgerinc-formaban-sult-baconos-sajtos-csirke \n",
      "Error while processing https://www.nosalty.hu/recept/unnepi-vadas-marha-tesztaval \n",
      "Error while processing https://www.nosalty.hu/recept/mezes-puszedli-1 \n",
      "Error while processing https://www.nosalty.hu/recept/metereskalacs-tekercs \n",
      "Error while processing https://www.nosalty.hu/recept/gesztenyes-mousse-desszert \n",
      "Error while processing https://www.nosalty.hu/recept/tomi-szelet \n",
      "Error while processing https://www.nosalty.hu/recept/meggyes-zuzmo \n",
      "Error while processing https://www.nosalty.hu/recept/tokmagos-hokifli \n",
      "Error while processing https://www.nosalty.hu/recept/makos-mezeskalacsos-joghurt-pite \n",
      "Error while processing https://www.nosalty.hu/recept/tango-szelet-1 \n",
      "Error while processing https://www.nosalty.hu/recept/snickers-szelet-1 \n",
      "Error while processing https://www.nosalty.hu/recept/sajtkremes-rolo \n",
      "Error while processing https://www.nosalty.hu/recept/francia-kremes-torta-cukormentesen \n",
      "Error while processing https://www.nosalty.hu/recept/sargarepas-sutotokos-edesburgonyas-kremleves \n",
      "Error while processing https://www.nosalty.hu/recept/granatalmas-lencsesalata \n",
      "Error while processing https://www.nosalty.hu/recept/csokikremmel-toltott-dios-piskotatorta \n",
      "Error while processing https://www.nosalty.hu/recept/egyszeru-vajas-keksz \n",
      "Error while processing https://www.nosalty.hu/recept/toltott-csirkemell-rolad \n",
      "Error while processing https://www.nosalty.hu/recept/makos-dios-duo-kalacs \n",
      "Error while processing https://www.nosalty.hu/recept/mezes-puszedlis-citromtorta \n",
      "Error while processing https://www.nosalty.hu/recept/tiramisu-brownie-1 \n",
      "Error while processing https://www.nosalty.hu/recept/mezeskalacsos-gesztenyetorta \n",
      "Error while processing https://www.nosalty.hu/recept/csokis-narancsos-keksz-1 \n",
      "Error while processing https://www.nosalty.hu/recept/aszaltszilvaval-toltott-csirkemell-dios-bundaban \n",
      "Error while processing https://www.nosalty.hu/recept/habkarika-1 \n",
      "Error while processing https://www.nosalty.hu/recept/impozans-vanilias-kifli-tokmag \n",
      "Error while processing https://www.nosalty.hu/recept/kaposztas-kocka-cvekedli-pogacsa-vendegvaro-karacsony-sos-sutemeny \n",
      "Error while processing https://www.nosalty.hu/recept/sos-csigaropogos-tejmentesen \n",
      "Error while processing https://www.nosalty.hu/recept/dios-birsalmas-linzerkarika \n",
      "Error while processing https://www.nosalty.hu/recept/cavallucci-karacsonyi-sutik-marchebol \n",
      "Error while processing https://www.nosalty.hu/recept/csokis-muffin-szaftosan \n",
      "Error while processing https://www.nosalty.hu/recept/sajtos-perec-omlosan \n",
      "Error while processing https://www.nosalty.hu/recept/egyszeru-csokis-perec \n",
      "Error while processing https://www.nosalty.hu/recept/mezeskalacs-golyok-fehercsokival \n",
      "Error while processing https://www.nosalty.hu/recept/zserboszelet-cukormentesen \n",
      "Error while processing https://www.nosalty.hu/recept/teperto-shortbread-aprosuti \n",
      "Error while processing https://www.nosalty.hu/recept/zserbo-malna-mandula-villamgyors \n",
      "Error while processing https://www.nosalty.hu/recept/tepertokrem \n",
      "Error while processing https://www.nosalty.hu/recept/pikans-szarvasvadas-lurpak-vaj-karacsony-foetel-martas-vadhus \n",
      "Error while processing https://www.nosalty.hu/recept/dios-bejgligolyok-budafoki-karacsony-unnepek \n",
      "Error while processing https://www.nosalty.hu/recept/nutella-keksz-mogyoro-csokolade-csoki-sutemeny \n",
      "Error while processing https://www.nosalty.hu/recept/pisztacias-csokitorta \n",
      "Error while processing https://www.nosalty.hu/recept/cannoli-pisztaciaval \n",
      "Error while processing https://www.nosalty.hu/recept/laxpudding-sved-rakott-lazac-burgonya \n",
      "Error while processing https://www.nosalty.hu/recept/klasszikus-fogas-orly-modra-bundas-hal \n",
      "Error while processing https://www.nosalty.hu/recept/piros-pecsenyeburgonya \n"
     ]
    },
    {
     "name": "stderr",
     "output_type": "stream",
     "text": [
      "Processing Recipes: 100%|███████████████████████████████████████████████████▉| 71185/71260 [23:41:46<00:00, 124.83it/s]"
     ]
    },
    {
     "name": "stdout",
     "output_type": "stream",
     "text": [
      "Error while processing https://www.nosalty.hu/recept/konnyu-kraterszelet \n",
      "Error while processing https://www.nosalty.hu/recept/kuglof-tom-cruise-kokusz-fehercsoki \n",
      "Error while processing https://www.nosalty.hu/recept/fahej-keksz-ciniminis \n",
      "Error while processing https://www.nosalty.hu/recept/aszalt-szilvaval-gongyolt-csirkemell-baconkontos \n",
      "Error while processing https://www.nosalty.hu/recept/pulyka-wellington-modra \n",
      "Error while processing https://www.nosalty.hu/recept/dios-szilvas-papucs-karacsony-sutemeny-aprosuti-auchan-vendegvaro \n",
      "Error while processing https://www.nosalty.hu/recept/mikulas-suti \n",
      "Error while processing https://www.nosalty.hu/recept/dios-makos-bejgliszelet \n",
      "Error while processing https://www.nosalty.hu/recept/legegyszerubb-puspokkenyer \n",
      "Error while processing https://www.nosalty.hu/recept/grillazs-hazilag \n",
      "Error while processing https://www.nosalty.hu/recept/egyszeru-lazac \n",
      "Error while processing https://www.nosalty.hu/recept/lazacos-rakott-teszta \n",
      "Error while processing https://www.nosalty.hu/recept/szines-kekszek-negyfele-izesitessel \n",
      "Error while processing https://www.nosalty.hu/recept/kofte-gomba-tofu-tzatziki-vegan \n",
      "Error while processing https://www.nosalty.hu/recept/irdalt-almas-csirkemell \n",
      "Error while processing https://www.nosalty.hu/recept/puha-dios-makos-bejgliszelet \n",
      "Error while processing https://www.nosalty.hu/recept/egesz-kacsa-sutozsakban-sutve \n",
      "Error while processing https://www.nosalty.hu/recept/juhturos-szezammagos-perecek \n",
      "Error while processing https://www.nosalty.hu/recept/vegan-raffaello-golyo \n",
      "Error while processing https://www.nosalty.hu/recept/makosguba-palacsinta \n",
      "Error while processing https://www.nosalty.hu/recept/parmezanos-ropogos-keksz \n",
      "Error while processing https://www.nosalty.hu/recept/karacsonyfasuti-vanilias-kremmel-es-diogrillazzsal \n",
      "Error while processing https://www.nosalty.hu/recept/lekvaros-csillagok-turos-alapu-puha-tesztaval \n",
      "Error while processing https://www.nosalty.hu/recept/kokuszos-mandulas-linzer \n",
      "Error while processing https://www.nosalty.hu/recept/aranygaluska-palacsinta \n",
      "Error while processing https://www.nosalty.hu/recept/retro-sajtos-taller \n",
      "Error while processing https://www.nosalty.hu/recept/vega-tatar-szaritott-paradicsombol \n",
      "Error while processing https://www.nosalty.hu/recept/kolbaszos-sajtfank \n",
      "Error while processing https://www.nosalty.hu/recept/karamellas-csokis-fudge \n",
      "Error while processing https://www.nosalty.hu/recept/hokifli-lekvarral-toltve \n",
      "Error while processing https://www.nosalty.hu/recept/hajtovany-vajdasagi-sos-tekercs-csiga \n",
      "Error while processing https://www.nosalty.hu/recept/vegan-spenotfozelek \n",
      "Error while processing https://www.nosalty.hu/recept/bottarga-spagetti-spaghetti-con-la-bottarga \n",
      "Error while processing https://www.nosalty.hu/recept/fuszeres-burrito \n",
      "Error while processing https://www.nosalty.hu/recept/tokmagos-malnas-szelet \n",
      "Error while processing https://www.nosalty.hu/recept/teli-taj-mezeskalacsbol \n",
      "Error while processing https://www.nosalty.hu/recept/bacon-szalonnaba-tekert-toltott-karaj \n",
      "Error while processing https://www.nosalty.hu/recept/lazac-wellington-ricottaval \n",
      "Error while processing https://www.nosalty.hu/recept/zoldbabfozelek-vegan-mindenmentes-fancsikai-eszter \n",
      "Error while processing https://www.nosalty.hu/recept/mandulamag-barackmag-mandulasuti-aprosutemeny-lakodalom-unnep \n",
      "Error while processing https://www.nosalty.hu/recept/szabolcsi-toltott-kaposzta-paradicsomos \n",
      "Error while processing https://www.nosalty.hu/recept/reszelt-almas-cinnamon-roll \n",
      "Error while processing https://www.nosalty.hu/recept/retro-dios-martott \n",
      "Error while processing https://www.nosalty.hu/recept/egyszeru-gesztenyes-keksz \n",
      "Error while processing https://www.nosalty.hu/recept/vegan-krumplileves \n",
      "Error while processing https://www.nosalty.hu/recept/torok-voroslencse-kremleves-mercimek-corbasi \n",
      "Error while processing https://www.nosalty.hu/recept/villamgyors-brokkolikremes-teszta-dr-oetker-vegan-husmentes-tejmentes-Cuisine-Vega \n",
      "Error while processing https://www.nosalty.hu/recept/rantott-camembert-fuszeres-sult-burgonya-tartarmartas-venusz-olaj-sutoolaj \n",
      "Error while processing https://www.nosalty.hu/recept/virslis-lencses-tesztasalata \n",
      "Error while processing https://www.nosalty.hu/recept/klasszik-mirinda-szelet \n",
      "Error while processing https://www.nosalty.hu/recept/vegan-hamburger \n",
      "Error while processing https://www.nosalty.hu/recept/tofu-stroganoff \n",
      "Error while processing https://www.nosalty.hu/recept/vegan-hamburger-1 \n",
      "Error while processing https://www.nosalty.hu/recept/sutotokos-farfalle-csirkemellel \n",
      "Error while processing https://www.nosalty.hu/recept/dan-szaloncukor \n",
      "Error while processing https://www.nosalty.hu/recept/flodnis-retes \n",
      "Error while processing https://www.nosalty.hu/recept/csokimazas-fuszerezett-kokuszcsillagok \n",
      "Error while processing https://www.nosalty.hu/recept/legegyszerubb-franciasalata \n",
      "Error while processing https://www.nosalty.hu/recept/csokoladeval-koronazott-kokuszcsok-sutes-nelkul \n",
      "Error while processing https://www.nosalty.hu/recept/tyukhusleves-aranylo \n",
      "Error while processing https://www.nosalty.hu/recept/turorudi-szelet-turos-kakaos-sutemeny \n",
      "Error while processing https://www.nosalty.hu/recept/vanilias-bananpuding \n",
      "Error while processing https://www.nosalty.hu/recept/citromkremmel-toltott-citromos-keksz \n",
      "Error while processing https://www.nosalty.hu/recept/tejszines-csirkes-burgonya \n",
      "Error while processing https://www.nosalty.hu/recept/gyors-turos-apro-suti-szilveszterre \n",
      "Error while processing https://www.nosalty.hu/recept/joghurtos-juhturos-sajtos-rudak \n",
      "Error while processing https://www.nosalty.hu/recept/narancsos-kakukkfuves-csirkemell \n",
      "Error while processing https://www.nosalty.hu/recept/zoldseges-tofuragu \n",
      "Error while processing https://www.nosalty.hu/recept/keksajtos-dios-scones \n",
      "Error while processing https://www.nosalty.hu/recept/tepertos-omlos-haromszogek \n",
      "Error while processing https://www.nosalty.hu/recept/vegan-forro-csoki \n",
      "Error while processing https://www.nosalty.hu/recept/husmentes-retro-burger \n",
      "Error while processing https://www.nosalty.hu/recept/szaftos-vegan-brownie \n",
      "Error while processing https://www.nosalty.hu/recept/ujevi-szerencsesuti \n",
      "Error while processing https://www.nosalty.hu/recept/vegan-almaspite \n",
      "Error while processing https://www.nosalty.hu/recept/vegan-csokis-babka \n",
      "Error while processing https://www.nosalty.hu/recept/citrom-mak-suti-vegan-sutemeny \n",
      "Error while processing https://www.nosalty.hu/recept/golden-milk-kurkuma-latte-haldi-doodh \n",
      "Error while processing https://www.nosalty.hu/recept/tavce-gravce-macedon-babragu \n",
      "Error while processing https://www.nosalty.hu/recept/extra-ropogos-sult-rizses-lazacos-uborkas-salata-bowl-kremes-azsiai-dresszinggel \n",
      "Error while processing https://www.nosalty.hu/recept/ropogos-csicseriborso-cezar-salata \n",
      "Error while processing https://www.nosalty.hu/recept/extra-tepertos-pogacsa \n",
      "Error while processing https://www.nosalty.hu/recept/meggyes-kokuszos-energiasuti \n",
      "Error while processing https://www.nosalty.hu/recept/kakaos-burgonyas-kalacs \n",
      "Error while processing https://www.nosalty.hu/recept/gombas-misos-udon-teszta \n",
      "Error while processing https://www.nosalty.hu/recept/vegan-tejbegriz-datolyakaramellel \n",
      "Error while processing https://www.nosalty.hu/recept/mujadara-lencses-rizses-egytaletel-karamellizalt-hagyma \n",
      "Error while processing https://www.nosalty.hu/recept/szaftos-vegan-maccheese \n",
      "Error while processing https://www.nosalty.hu/recept/vegan-melegszendvics \n",
      "Error while processing https://www.nosalty.hu/recept/vegan-brownie-cookies-tejmentes-almaszosz-keksz-szaftos-ragacsos-edes-sutemeny \n",
      "Error while processing https://www.nosalty.hu/recept/vegan-pizza-sokszinu-zoldsegekkel \n",
      "Error while processing https://www.nosalty.hu/recept/hazi-fahejas-gabonapehely-egeszsegesen-cini-minis \n",
      "Error while processing https://www.nosalty.hu/recept/kacsamajas-puffancs \n",
      "Error while processing https://www.nosalty.hu/recept/puha-csokitorta-azaz-saba-kiralynoje \n",
      "Error while processing https://www.nosalty.hu/recept/citromkremes-kosarkatorta \n",
      "Error while processing https://www.nosalty.hu/recept/sajtkremes-fank \n",
      "Error while processing https://www.nosalty.hu/recept/csalanfozelek-tukortojassal \n",
      "Error while processing https://www.nosalty.hu/recept/szalagos-farsangi-fank-klasszikusan \n",
      "Error while processing https://www.nosalty.hu/recept/teli-caprese-salata \n",
      "Error while processing https://www.nosalty.hu/recept/olasz-fanktekercsek \n",
      "Error while processing https://www.nosalty.hu/recept/hortobagyi-kolbaszos-palacsinta \n",
      "Error while processing https://www.nosalty.hu/recept/hagymas-sult-krumpli-tukortojassal \n",
      "Error while processing https://www.nosalty.hu/recept/novenyi-vaj \n",
      "Error while processing https://www.nosalty.hu/recept/vegan-pad-thai \n",
      "Error while processing https://www.nosalty.hu/recept/csirke-vadasmartas \n",
      "Error while processing https://www.nosalty.hu/recept/krumplifozelek-tarkony-es-baberlevel \n",
      "Error while processing https://www.nosalty.hu/recept/olasz-rozsafank \n",
      "Error while processing https://www.nosalty.hu/recept/hagyomanyos-szalvetagomboc \n",
      "Error while processing https://www.nosalty.hu/recept/joghurtos-viragfank \n",
      "Error while processing https://www.nosalty.hu/recept/sult-tarja-balzsamecetes-lila-hagymaval \n",
      "Error while processing https://www.nosalty.hu/recept/vegan-cezarsalata \n",
      "Error while processing https://www.nosalty.hu/recept/tormas-repafozelek-villamgyorsan \n",
      "Error while processing https://www.nosalty.hu/recept/vegan-toltott-edesburgonya-ketfelekeppen \n",
      "Error while processing https://www.nosalty.hu/recept/fuszeres-burgonyatorony \n",
      "Error while processing https://www.nosalty.hu/recept/fuszeres-sajtgolyok-detki-gourmet-keker-kekszmorzsa-curry-hagyma-vital-fitt \n",
      "Error while processing https://www.nosalty.hu/recept/mazas-fank-focaccia \n",
      "Error while processing https://www.nosalty.hu/recept/borsoleves-egyszeruen \n",
      "Error while processing https://www.nosalty.hu/recept/kuszkusz-gyors-izletes \n",
      "Error while processing https://www.nosalty.hu/recept/csirke-tagine-marokko-mandula-aszalt-szilva-tajine \n",
      "Error while processing https://www.nosalty.hu/recept/zaalouk-marokko-padlizsankrem-paprika \n",
      "Error while processing https://www.nosalty.hu/recept/mentatea-marokko \n",
      "Error while processing https://www.nosalty.hu/recept/mhencha-marokko-mandula-suti-reteslap \n",
      "Error while processing https://www.nosalty.hu/recept/kelkremes-kolbaszos-kagyloteszta \n",
      "Error while processing https://www.nosalty.hu/recept/lekvaros-viragcsodak-30-perc-alatt \n",
      "Error while processing https://www.nosalty.hu/recept/kolozsvari-rakott-kaposzta-feherborral \n",
      "Error while processing https://www.nosalty.hu/recept/disznotoros-krumplival-sutve \n",
      "Error while processing https://www.nosalty.hu/recept/ropogos-bagett \n",
      "Error while processing https://www.nosalty.hu/recept/vegan-hotdog \n",
      "Error while processing https://www.nosalty.hu/recept/burgonyakrokett \n",
      "Error while processing https://www.nosalty.hu/recept/kaposztas-pirog-egyszeruen-pirozhki \n",
      "Error while processing https://www.nosalty.hu/recept/kinai-husos-batyu-xian-bing \n",
      "Error while processing https://www.nosalty.hu/recept/marhahusos-empanada \n",
      "Error while processing https://www.nosalty.hu/recept/gorog-fetas-spenotos-batyuk-spanakopita \n",
      "Error while processing https://www.nosalty.hu/recept/indiai-zoldseges-batyu-samosa \n"
     ]
    },
    {
     "name": "stderr",
     "output_type": "stream",
     "text": [
      "Processing Recipes: 100%|█████████████████████████████████████████████████████| 71260/71260 [23:41:46<00:00,  1.20s/it]\n"
     ]
    },
    {
     "name": "stdout",
     "output_type": "stream",
     "text": [
      "Error while processing https://www.nosalty.hu/recept/sajtos-karfiolnuggets \n",
      "Error while processing https://www.nosalty.hu/recept/narancslekvar-marmalade-narancsdzsem \n",
      "Error while processing https://www.nosalty.hu/recept/kevert-salata-savanyu-kaposztaval \n",
      "Error while processing https://www.nosalty.hu/recept/kokuszos-puncsgolyo-piritott-mandulaval \n",
      "Error while processing https://www.nosalty.hu/recept/turoval-toltott-csoroge-cannoli \n",
      "Error while processing https://www.nosalty.hu/recept/egyszeru-csorogefank \n",
      "Error while processing https://www.nosalty.hu/recept/vegan-csokitorta-egyszeruen \n",
      "Error while processing https://www.nosalty.hu/recept/brownie-sajttorta-eper-valentinnap-sutemeny \n",
      "Error while processing https://www.nosalty.hu/recept/churros-csokiszosszal \n",
      "Error while processing https://www.nosalty.hu/recept/paradicsomos-babfozelek-villamgyorsan \n",
      "Error while processing https://www.nosalty.hu/recept/citrompite-fank \n",
      "Error while processing https://www.nosalty.hu/recept/klasszikus-skot-tojas \n",
      "Error while processing https://www.nosalty.hu/recept/burgonyapurevel-toltott-rantott-hus \n",
      "Error while processing https://www.nosalty.hu/recept/szivecskes-linzer \n",
      "Error while processing https://www.nosalty.hu/recept/csontleves-eroleves-husleves \n",
      "Error while processing https://www.nosalty.hu/recept/tejszines-gombapaprikas-petrezselyemmel \n",
      "Error while processing https://www.nosalty.hu/recept/vegan-fank \n",
      "Error while processing https://www.nosalty.hu/recept/red-velvet-csigak \n",
      "Error while processing https://www.nosalty.hu/recept/vanilias-cappuccinokremes-kakaotorta-piritott-mogyoroval \n",
      "Error while processing https://www.nosalty.hu/recept/csokiszufle-egyszeruen \n",
      "Error while processing https://www.nosalty.hu/recept/krumplifozelek-csirkefasirttal \n",
      "Error while processing https://www.nosalty.hu/recept/szivecskes-keksz-csokolades-kokuszos-kremmel \n",
      "Error while processing https://www.nosalty.hu/recept/kolbaszos-teszta \n",
      "Error while processing https://www.nosalty.hu/recept/edesburgonya-creme-brulee \n",
      "Error while processing https://www.nosalty.hu/recept/avokadokrem-avokado-guacamole \n",
      "Error while processing https://www.nosalty.hu/recept/grizgaluska \n",
      "Error while processing https://www.nosalty.hu/recept/sajtburgerleves-ragu-leves \n",
      "Error while processing https://www.nosalty.hu/recept/puha-almafank-egyszeruen \n",
      "Error while processing https://www.nosalty.hu/recept/sutoben-sult-zamatos-csirkecomb \n",
      "Error while processing https://www.nosalty.hu/recept/airfyerben-sult-kenyer \n",
      "Error while processing https://www.nosalty.hu/recept/afonya-pite \n",
      "Error while processing https://www.nosalty.hu/recept/tortellini-hazilag-ketfele-toltelekkel \n",
      "Error while processing https://www.nosalty.hu/recept/deluxe-epres-muffin \n",
      "Error while processing https://www.nosalty.hu/recept/mexikoi-csirkes-egytal-1 \n",
      "Error while processing https://www.nosalty.hu/recept/gyoza-egyszeruen-husmentes-toltelekkel \n",
      "Error while processing https://www.nosalty.hu/recept/vaniliakremes-profiterol-csokoladeszosszal \n",
      "Error while processing https://www.nosalty.hu/recept/konfitalt-tojassargaja \n",
      "Error while processing https://www.nosalty.hu/recept/virslis-sult-krumpli-salata \n",
      "Error while processing https://www.nosalty.hu/recept/izletes-kinai-csipos-savanyu-leves \n",
      "Error while processing https://www.nosalty.hu/recept/medvehagymas-haromszog \n",
      "Error while processing https://www.nosalty.hu/recept/vegan-csokis-keksz \n",
      "Error while processing https://www.nosalty.hu/recept/toltott-burgonya-tojassal-kolbasszal \n",
      "Error while processing https://www.nosalty.hu/recept/baconos-kremsajtos-toltott-gomba \n",
      "Error while processing https://www.nosalty.hu/recept/bodag \n",
      "Error while processing https://www.nosalty.hu/recept/blondies \n",
      "Error while processing https://www.nosalty.hu/recept/mexikoi-quiche \n",
      "Error while processing https://www.nosalty.hu/recept/teljes-kiorlesu-csorogefank-tojas-nelkul \n",
      "Error while processing https://www.nosalty.hu/recept/bacskai-csirkemaj \n",
      "Error while processing https://www.nosalty.hu/recept/ceklasalata-savanyusag-ecet \n",
      "Error while processing https://www.nosalty.hu/recept/kuszkuszpuding-safrany-narancs-vanilia \n",
      "Error while processing https://www.nosalty.hu/recept/tortillapizza-tortilla-pizza \n",
      "Error while processing https://www.nosalty.hu/recept/tepertos-ropogos \n",
      "Error while processing https://www.nosalty.hu/recept/nizzai-lepeny-pissaladiere \n",
      "Error while processing https://www.nosalty.hu/recept/szinpompa-paradicsomsalata \n",
      "Error while processing https://www.nosalty.hu/recept/torok-tejberizs-sutve-sutlac \n",
      "Error while processing https://www.nosalty.hu/recept/zoldseges-pasztorpite \n",
      "Error while processing https://www.nosalty.hu/recept/marvanykuglof-egyszeruen \n",
      "Error while processing https://www.nosalty.hu/recept/tejszines-kakukkfuves-gombaleves \n",
      "Error while processing https://www.nosalty.hu/recept/hazi-vaniliapuding-egyszeruen \n",
      "Error while processing https://www.nosalty.hu/recept/fetaval-toltott-roppanos-csiga \n",
      "Error while processing https://www.nosalty.hu/recept/vanilias-cukraszkrem-creme-patissiere \n",
      "Error while processing https://www.nosalty.hu/recept/borsodo-egyszeruen \n",
      "Error while processing https://www.nosalty.hu/recept/brokkoliszar-kremleves \n",
      "Error while processing https://www.nosalty.hu/recept/tojascurry-tojas-curry-anda-masala \n",
      "Error while processing https://www.nosalty.hu/recept/hazi-kurtoskalacs-sutoben \n",
      "Error while processing https://www.nosalty.hu/recept/hagymas-bab \n",
      "Error while processing https://www.nosalty.hu/recept/kakaotorta-vanilias-turokremmel-toltve-maskepp \n",
      "Error while processing https://www.nosalty.hu/recept/almas-kremes-piskota \n",
      "Error while processing https://www.nosalty.hu/recept/amarantos-szivar \n",
      "Error while processing https://www.nosalty.hu/recept/gnocchi-spagetti \n",
      "Error while processing https://www.nosalty.hu/recept/brownie-sutes-nelkul \n",
      "Error while processing https://www.nosalty.hu/recept/tiramisus-chia-puding \n",
      "Error while processing https://www.nosalty.hu/recept/ozporkolt-erdei-gombak \n",
      "Error while processing https://www.nosalty.hu/recept/cezarsalata-ropogos-rantott-csirke-caesar-salata \n",
      "Error while processing https://www.nosalty.hu/recept/burgonyas-tepertos-kocka \n",
      "Processed 71260/71260 URLs. Successful recipes: 70664. Elapsed time: 85306.37 seconds.\n",
      "Total execution time: 85337.74 seconds\n"
     ]
    },
    {
     "data": {
      "text/html": [
       "<div>\n",
       "<style scoped>\n",
       "    .dataframe tbody tr th:only-of-type {\n",
       "        vertical-align: middle;\n",
       "    }\n",
       "\n",
       "    .dataframe tbody tr th {\n",
       "        vertical-align: top;\n",
       "    }\n",
       "\n",
       "    .dataframe thead th {\n",
       "        text-align: right;\n",
       "    }\n",
       "</style>\n",
       "<table border=\"1\" class=\"dataframe\">\n",
       "  <thead>\n",
       "    <tr style=\"text-align: right;\">\n",
       "      <th></th>\n",
       "      <th>Recipe name</th>\n",
       "      <th>Time</th>\n",
       "      <th>Cost</th>\n",
       "      <th>Difficulty</th>\n",
       "      <th>Categories</th>\n",
       "      <th>Preparation Time</th>\n",
       "      <th>Baking Time</th>\n",
       "      <th>Portions</th>\n",
       "      <th>Ingredients</th>\n",
       "      <th>Fehérje - Összesen</th>\n",
       "      <th>...</th>\n",
       "      <th>Niacin - B3 vitamin</th>\n",
       "      <th>Pantoténsav - B5 vitamin</th>\n",
       "      <th>Folsav - B9-vitamin</th>\n",
       "      <th>Kolin</th>\n",
       "      <th>Retinol</th>\n",
       "      <th>α-karotin</th>\n",
       "      <th>β-karotin</th>\n",
       "      <th>β-crypt</th>\n",
       "      <th>Likopin</th>\n",
       "      <th>Lut-zea</th>\n",
       "    </tr>\n",
       "  </thead>\n",
       "  <tbody>\n",
       "    <tr>\n",
       "      <th>0</th>\n",
       "      <td>Tőzegáfonyás répatorta</td>\n",
       "      <td>50perc</td>\n",
       "      <td>olcsó</td>\n",
       "      <td>könnyű</td>\n",
       "      <td>torta, répatorta</td>\n",
       "      <td>5 perc</td>\n",
       "      <td>45.0</td>\n",
       "      <td>8</td>\n",
       "      <td>[{'Ingredient': 'nádcukor', 'Quantity': '150 g...</td>\n",
       "      <td>4.8</td>\n",
       "      <td>...</td>\n",
       "      <td>0.000</td>\n",
       "      <td>0.0</td>\n",
       "      <td>0.000018</td>\n",
       "      <td>0.058</td>\n",
       "      <td>0.000029</td>\n",
       "      <td>0.000619</td>\n",
       "      <td>0.001478</td>\n",
       "      <td>0.000002</td>\n",
       "      <td>0.0</td>\n",
       "      <td>0.000149</td>\n",
       "    </tr>\n",
       "    <tr>\n",
       "      <th>1</th>\n",
       "      <td>Hideg joghurtos őszibarackleves</td>\n",
       "      <td>51perc</td>\n",
       "      <td>olcsó</td>\n",
       "      <td>könnyű</td>\n",
       "      <td>levesek, gyümölcsleves</td>\n",
       "      <td>6 perc</td>\n",
       "      <td>45.0</td>\n",
       "      <td>4</td>\n",
       "      <td>[{'Ingredient': 'őszibarack', 'Quantity': '8 k...</td>\n",
       "      <td>4.2</td>\n",
       "      <td>...</td>\n",
       "      <td>0.002</td>\n",
       "      <td>0.0</td>\n",
       "      <td>0.000014</td>\n",
       "      <td>0.023</td>\n",
       "      <td>0.000014</td>\n",
       "      <td>0.000000</td>\n",
       "      <td>0.000398</td>\n",
       "      <td>0.000163</td>\n",
       "      <td>0.0</td>\n",
       "      <td>0.000222</td>\n",
       "    </tr>\n",
       "    <tr>\n",
       "      <th>2</th>\n",
       "      <td>Házi készítésű pappardelle tészta pesto rossoval</td>\n",
       "      <td>120perc</td>\n",
       "      <td>olcsó</td>\n",
       "      <td>közepes</td>\n",
       "      <td>tészta, tészta alaprecept</td>\n",
       "      <td>110 perc</td>\n",
       "      <td>NaN</td>\n",
       "      <td>4</td>\n",
       "      <td>[{'Ingredient': 'rétesliszt', 'Quantity': '165...</td>\n",
       "      <td>10.8</td>\n",
       "      <td>...</td>\n",
       "      <td>0.001</td>\n",
       "      <td>0.0</td>\n",
       "      <td>0.000022</td>\n",
       "      <td>0.075</td>\n",
       "      <td>0.000039</td>\n",
       "      <td>0.000000</td>\n",
       "      <td>0.000000</td>\n",
       "      <td>0.000002</td>\n",
       "      <td>0.0</td>\n",
       "      <td>0.000129</td>\n",
       "    </tr>\n",
       "    <tr>\n",
       "      <th>3</th>\n",
       "      <td>Hargita citromtortája</td>\n",
       "      <td>55perc</td>\n",
       "      <td>olcsó</td>\n",
       "      <td>könnyű</td>\n",
       "      <td>édes süti, kevert sütemény</td>\n",
       "      <td>15 perc</td>\n",
       "      <td>40.0</td>\n",
       "      <td>8</td>\n",
       "      <td>[{'Ingredient': 'vaj', 'Quantity': '125 g'}, {...</td>\n",
       "      <td>4.2</td>\n",
       "      <td>...</td>\n",
       "      <td>0.000</td>\n",
       "      <td>0.0</td>\n",
       "      <td>0.000014</td>\n",
       "      <td>0.045</td>\n",
       "      <td>0.000162</td>\n",
       "      <td>0.000000</td>\n",
       "      <td>0.000033</td>\n",
       "      <td>0.000002</td>\n",
       "      <td>0.0</td>\n",
       "      <td>0.000066</td>\n",
       "    </tr>\n",
       "    <tr>\n",
       "      <th>4</th>\n",
       "      <td>Tiramisu 1.</td>\n",
       "      <td>45perc</td>\n",
       "      <td>megfizethető</td>\n",
       "      <td>könnyű</td>\n",
       "      <td>édes süti, tiramisu</td>\n",
       "      <td>45 perc</td>\n",
       "      <td>NaN</td>\n",
       "      <td>6</td>\n",
       "      <td>[{'Ingredient': 'babapiskóta', 'Quantity': '40...</td>\n",
       "      <td>15.8</td>\n",
       "      <td>...</td>\n",
       "      <td>0.002</td>\n",
       "      <td>0.0</td>\n",
       "      <td>0.000028</td>\n",
       "      <td>0.139</td>\n",
       "      <td>0.000062</td>\n",
       "      <td>0.000006</td>\n",
       "      <td>0.000015</td>\n",
       "      <td>0.000006</td>\n",
       "      <td>0.0</td>\n",
       "      <td>0.000186</td>\n",
       "    </tr>\n",
       "  </tbody>\n",
       "</table>\n",
       "<p>5 rows × 46 columns</p>\n",
       "</div>"
      ],
      "text/plain": [
       "                                        Recipe name     Time          Cost  \\\n",
       "0                            Tőzegáfonyás répatorta   50perc         olcsó   \n",
       "1                   Hideg joghurtos őszibarackleves   51perc         olcsó   \n",
       "2  Házi készítésű pappardelle tészta pesto rossoval  120perc         olcsó   \n",
       "3                             Hargita citromtortája   55perc         olcsó   \n",
       "4                                       Tiramisu 1.   45perc  megfizethető   \n",
       "\n",
       "  Difficulty                  Categories Preparation Time  Baking Time  \\\n",
       "0     könnyű            torta, répatorta           5 perc         45.0   \n",
       "1     könnyű      levesek, gyümölcsleves           6 perc         45.0   \n",
       "2    közepes   tészta, tészta alaprecept         110 perc          NaN   \n",
       "3     könnyű  édes süti, kevert sütemény          15 perc         40.0   \n",
       "4     könnyű         édes süti, tiramisu          45 perc          NaN   \n",
       "\n",
       "  Portions                                        Ingredients  \\\n",
       "0        8  [{'Ingredient': 'nádcukor', 'Quantity': '150 g...   \n",
       "1        4  [{'Ingredient': 'őszibarack', 'Quantity': '8 k...   \n",
       "2        4  [{'Ingredient': 'rétesliszt', 'Quantity': '165...   \n",
       "3        8  [{'Ingredient': 'vaj', 'Quantity': '125 g'}, {...   \n",
       "4        6  [{'Ingredient': 'babapiskóta', 'Quantity': '40...   \n",
       "\n",
       "   Fehérje - Összesen  ... Niacin - B3 vitamin  Pantoténsav - B5 vitamin  \\\n",
       "0                 4.8  ...               0.000                       0.0   \n",
       "1                 4.2  ...               0.002                       0.0   \n",
       "2                10.8  ...               0.001                       0.0   \n",
       "3                 4.2  ...               0.000                       0.0   \n",
       "4                15.8  ...               0.002                       0.0   \n",
       "\n",
       "   Folsav - B9-vitamin  Kolin   Retinol  α-karotin  β-karotin   β-crypt  \\\n",
       "0             0.000018  0.058  0.000029   0.000619   0.001478  0.000002   \n",
       "1             0.000014  0.023  0.000014   0.000000   0.000398  0.000163   \n",
       "2             0.000022  0.075  0.000039   0.000000   0.000000  0.000002   \n",
       "3             0.000014  0.045  0.000162   0.000000   0.000033  0.000002   \n",
       "4             0.000028  0.139  0.000062   0.000006   0.000015  0.000006   \n",
       "\n",
       "   Likopin   Lut-zea  \n",
       "0      0.0  0.000149  \n",
       "1      0.0  0.000222  \n",
       "2      0.0  0.000129  \n",
       "3      0.0  0.000066  \n",
       "4      0.0  0.000186  \n",
       "\n",
       "[5 rows x 46 columns]"
      ]
     },
     "execution_count": 24,
     "metadata": {},
     "output_type": "execute_result"
    }
   ],
   "source": [
    "import traceback\n",
    "# Start time tracking\n",
    "start_time = time.time()\n",
    "\n",
    "all_recipe_details = []\n",
    "# Initialize counters\n",
    "success_count = 0\n",
    "total_count = len(all_urls)\n",
    "\n",
    "# Process each recipe URL\n",
    "with tqdm(total=total_count, desc=\"Processing Recipes\") as pbar:\n",
    "    for i, url in enumerate(all_urls, start=1):\n",
    "        try:\n",
    "            scraper = RecipeScraper(url)\n",
    "            recipe_details_df = scraper.to_dataframe()\n",
    "\n",
    "            # **Check if recipe details are valid**\n",
    "            if recipe_details_df is not None:\n",
    "                all_recipe_details.append(recipe_details_df)\n",
    "                success_count += 1  # Count only successful scrapes\n",
    "\n",
    "        except Exception as e:\n",
    "            print(f\"Error while processing {url} \")\n",
    "        \n",
    "        # Periodically log progress\n",
    "        if i % 5000 == 0 or i == total_count:\n",
    "            elapsed_time = time.time() - start_time\n",
    "            print(f\"Processed {i}/{total_count} URLs. Successful recipes: {success_count}. Elapsed time: {elapsed_time:.2f} seconds.\")\n",
    "        \n",
    "        pbar.update(1)\n",
    "\n",
    "# Combine all extracted data into a single DataFrame\n",
    "final_df = pd.concat(all_recipe_details, ignore_index=True)\n",
    "final_df_cleaned = DataProcessor.clean_nutrition_data(final_df)\n",
    "\n",
    "# Save the cleaned results to a CSV file\n",
    "output_path = r\"C:\\Users\\Bálint\\Desktop\\Asztal\\Projekt\\receptek_jav.csv\"\n",
    "final_df_cleaned.to_csv(output_path, index=False)\n",
    "\n",
    "# End time tracking\n",
    "end_time = time.time()\n",
    "print(f\"Total execution time: {end_time - start_time:.2f} seconds\")\n",
    "# Display the first few rows of the cleaned dataset\n",
    "final_df_cleaned.head()"
   ]
  },
  {
   "cell_type": "code",
   "execution_count": 180,
   "id": "f187119c",
   "metadata": {},
   "outputs": [],
   "source": [
    "class IngredientScraper:\n",
    "    \"\"\"Class for scraping full details of an ingredient from Nosalty.\"\"\"\n",
    "\n",
    "    BASE_URL = \"https://www.nosalty.hu/alapanyag/\"\n",
    "\n",
    "    def __init__(self, url):\n",
    "        self.url = url\n",
    "        self.soup = self.get_soup()\n",
    "\n",
    "    @staticmethod\n",
    "    def extract_urls_from_xml(file_path, check_url_format=False, date_range=None):\n",
    "        \"\"\"\n",
    "        Extracts ingredient URLs from an XML file, optionally checking format and date range.\n",
    "\n",
    "        Args:\n",
    "            file_path (str): Path to the XML file.\n",
    "            check_url_format (bool): If True, checks if the URL is valid.\n",
    "            date_range (tuple): Optional (start_date, end_date) for filtering URLs by lastmod.\n",
    "                                Format: ('YYYY-MM-DD', 'YYYY-MM-DD').\n",
    "\n",
    "        Returns:\n",
    "            list: List of valid URLs.\n",
    "        \"\"\"\n",
    "        def is_valid_url(url):\n",
    "            \"\"\"Validates URL format.\"\"\"\n",
    "            pattern = r\"^(http|https)://[^\\s/$.?#].[^\\s]*$\"\n",
    "            return re.match(pattern, url) is not None\n",
    "\n",
    "        def is_within_date_range(date_text, start_date, end_date):\n",
    "            \"\"\"Checks if the date falls within the specified range.\"\"\"\n",
    "            try:\n",
    "                date = datetime.strptime(date_text, \"%Y-%m-%d\")\n",
    "                return start_date <= date <= end_date\n",
    "            except ValueError:\n",
    "                return False\n",
    "\n",
    "        # Define XML namespace\n",
    "        namespace = {'ns': 'http://www.sitemaps.org/schemas/sitemap/0.9'}\n",
    "\n",
    "        # Parse XML\n",
    "        tree = ET.parse(file_path)\n",
    "        root = tree.getroot()\n",
    "\n",
    "        urls = []\n",
    "        for url in root.findall('ns:url', namespace):\n",
    "            loc = url.find('ns:loc', namespace)\n",
    "            lastmod = url.find('ns:lastmod', namespace)\n",
    "\n",
    "            if loc is not None:\n",
    "                url_text = loc.text\n",
    "                if not url_text.startswith(IngredientScraper.BASE_URL):\n",
    "                    continue\n",
    "                if check_url_format and not is_valid_url(url_text):\n",
    "                    continue\n",
    "                if date_range and lastmod is not None:\n",
    "                    start_date, end_date = map(lambda d: datetime.strptime(d, \"%Y-%m-%d\"), date_range)\n",
    "                    if not is_within_date_range(lastmod.text, start_date, end_date):\n",
    "                        continue\n",
    "                urls.append(url_text)\n",
    "\n",
    "        return urls\n",
    "\n",
    "    def get_soup(self):\n",
    "        \"\"\"Fetch and parse the ingredient webpage.\"\"\"\n",
    "        try:\n",
    "            response = requests.get(self.url, timeout=5)\n",
    "            if response.status_code != 200:\n",
    "                return None\n",
    "            return BeautifulSoup(response.text, 'html.parser')\n",
    "        except requests.RequestException:\n",
    "            return None\n",
    "\n",
    "    def get_ingredient_name(self):\n",
    "        \"\"\"Extracts the ingredient name from metadata.\"\"\"\n",
    "        if not self.soup:\n",
    "            return \"N/A\"\n",
    "        meta_tag = self.soup.find(\"meta\", property=\"og:title\")\n",
    "        return meta_tag[\"content\"] if meta_tag and \"content\" in meta_tag.attrs else \"Unknown Ingredient\"\n",
    "\n",
    "    def get_categories(self):\n",
    "        \"\"\"Extracts primary and secondary ingredient categories.\"\"\"\n",
    "        if not self.soup:\n",
    "            return \"N/A\", \"N/A\"\n",
    "        category_links = self.soup.find_all(\"a\", class_=\"a-link -fontColorPrimary -fontSize-16 -recipe pr-3 pl-2\")\n",
    "        categories = [link.text.strip() for link in category_links]\n",
    "\n",
    "        primary_category = categories[1] if len(categories) > 0 else \"N/A\"\n",
    "        secondary_category = categories[2] if len(categories) > 2 else \"N/A\"\n",
    "        return primary_category, secondary_category\n",
    "\n",
    "    def get_nutrition_data(self):\n",
    "        \"\"\"Extracts nutrition details for the ingredient.\"\"\"\n",
    "        if not self.soup:\n",
    "            return {}\n",
    "\n",
    "        nutrition_data = {}\n",
    "\n",
    "        # Locate the nutrition section\n",
    "        ingredient_section = self.soup.find(\"div\", id=\"ingredientCalculatorResult\")\n",
    "        if not ingredient_section:\n",
    "            return {}  # No nutrition section found, return empty\n",
    "\n",
    "        # Find all nutrition data rows\n",
    "        rows = ingredient_section.find_all('div', class_='d-flex align-items-center flex-row w-100')\n",
    "\n",
    "        for row in rows:\n",
    "            # Extract labels and values\n",
    "            paragraphs = row.find_all('p')\n",
    "            if len(paragraphs) == 2:\n",
    "                label = paragraphs[0].text.strip()\n",
    "                value = paragraphs[1].text.strip()\n",
    "\n",
    "                # Save to dictionary\n",
    "                nutrition_data[label] = value\n",
    "\n",
    "        return nutrition_data\n",
    "\n",
    "    def to_dataframe(self):\n",
    "        \"\"\"Converts extracted ingredient details into a pandas DataFrame.\"\"\"\n",
    "        primary_category, secondary_category = self.get_categories()\n",
    "        return pd.DataFrame([{\n",
    "            \"Ingredient Name\": self.get_ingredient_name(),\n",
    "            \"Primary Category\": primary_category,\n",
    "            \"Secondary Category\": secondary_category,\n",
    "            **self.get_nutrition_data()\n",
    "        }])\n"
   ]
  },
  {
   "cell_type": "code",
   "execution_count": 191,
   "id": "ec2ff601",
   "metadata": {},
   "outputs": [],
   "source": [
    "# XML paths\n",
    "file_paths = [\n",
    "    r'C:\\Users\\Bálint\\Desktop\\Asztal\\Projekt\\inputs\\receptek_url.xml',\n",
    "    r'C:\\Users\\Bálint\\Desktop\\Asztal\\Projekt\\inputs\\receptek_url_2.xml',\n",
    "    r'C:\\Users\\Bálint\\Desktop\\Asztal\\Projekt\\inputs\\receptek_url_3.xml'\n",
    "]\n",
    "\n",
    "# Processing all URLs \n",
    "all_ingredient_urls = []\n",
    "for file_path in file_paths:\n",
    "    urls_ingredients = IngredientScraper.extract_urls_from_xml(file_path, check_url_format=True)\n",
    "    all_ingredient_urls.extend(urls_ingredients)"
   ]
  },
  {
   "cell_type": "code",
   "execution_count": 190,
   "id": "1ceb4c01",
   "metadata": {},
   "outputs": [
    {
     "name": "stderr",
     "output_type": "stream",
     "text": [
      "Processing Ingredients:  10%|█████▋                                                 | 151/1465 [01:44<09:38,  2.27it/s]"
     ]
    },
    {
     "name": "stdout",
     "output_type": "stream",
     "text": [
      "Processed 150/1465 URLs. Successful ingredients: 150. Elapsed time: 103.87 seconds.\n"
     ]
    },
    {
     "name": "stderr",
     "output_type": "stream",
     "text": [
      "Processing Ingredients:  20%|███████████▎                                           | 300/1465 [03:26<11:55,  1.63it/s]"
     ]
    },
    {
     "name": "stdout",
     "output_type": "stream",
     "text": [
      "Processed 300/1465 URLs. Successful ingredients: 300. Elapsed time: 206.73 seconds.\n"
     ]
    },
    {
     "name": "stderr",
     "output_type": "stream",
     "text": [
      "Processing Ingredients:  31%|████████████████▉                                      | 450/1465 [05:09<10:48,  1.56it/s]"
     ]
    },
    {
     "name": "stdout",
     "output_type": "stream",
     "text": [
      "Processed 450/1465 URLs. Successful ingredients: 450. Elapsed time: 309.54 seconds.\n"
     ]
    },
    {
     "name": "stderr",
     "output_type": "stream",
     "text": [
      "Processing Ingredients:  41%|██████████████████████▌                                | 600/1465 [06:55<10:55,  1.32it/s]"
     ]
    },
    {
     "name": "stdout",
     "output_type": "stream",
     "text": [
      "Processed 600/1465 URLs. Successful ingredients: 600. Elapsed time: 415.49 seconds.\n"
     ]
    },
    {
     "name": "stderr",
     "output_type": "stream",
     "text": [
      "Processing Ingredients:  51%|████████████████████████████▏                          | 750/1465 [08:37<08:09,  1.46it/s]"
     ]
    },
    {
     "name": "stdout",
     "output_type": "stream",
     "text": [
      "Processed 750/1465 URLs. Successful ingredients: 750. Elapsed time: 517.66 seconds.\n"
     ]
    },
    {
     "name": "stderr",
     "output_type": "stream",
     "text": [
      "Processing Ingredients:  61%|█████████████████████████████████▊                     | 900/1465 [10:15<05:52,  1.60it/s]"
     ]
    },
    {
     "name": "stdout",
     "output_type": "stream",
     "text": [
      "Processed 900/1465 URLs. Successful ingredients: 900. Elapsed time: 615.87 seconds.\n"
     ]
    },
    {
     "name": "stderr",
     "output_type": "stream",
     "text": [
      "Processing Ingredients:  72%|██████████████████████████████████████▋               | 1050/1465 [11:56<03:43,  1.86it/s]"
     ]
    },
    {
     "name": "stdout",
     "output_type": "stream",
     "text": [
      "Processed 1050/1465 URLs. Successful ingredients: 1050. Elapsed time: 716.74 seconds.\n"
     ]
    },
    {
     "name": "stderr",
     "output_type": "stream",
     "text": [
      "Processing Ingredients:  82%|████████████████████████████████████████████▏         | 1200/1465 [13:31<02:45,  1.60it/s]"
     ]
    },
    {
     "name": "stdout",
     "output_type": "stream",
     "text": [
      "Processed 1200/1465 URLs. Successful ingredients: 1200. Elapsed time: 811.96 seconds.\n"
     ]
    },
    {
     "name": "stderr",
     "output_type": "stream",
     "text": [
      "Processing Ingredients:  92%|█████████████████████████████████████████████████▊    | 1350/1465 [15:00<01:09,  1.65it/s]"
     ]
    },
    {
     "name": "stdout",
     "output_type": "stream",
     "text": [
      "Processed 1350/1465 URLs. Successful ingredients: 1350. Elapsed time: 900.80 seconds.\n"
     ]
    },
    {
     "name": "stderr",
     "output_type": "stream",
     "text": [
      "Processing Ingredients: 100%|██████████████████████████████████████████████████████| 1465/1465 [16:11<00:00,  1.51it/s]"
     ]
    },
    {
     "name": "stdout",
     "output_type": "stream",
     "text": [
      "Processed 1465/1465 URLs. Successful ingredients: 1465. Elapsed time: 971.72 seconds.\n"
     ]
    },
    {
     "name": "stderr",
     "output_type": "stream",
     "text": [
      "\n"
     ]
    },
    {
     "name": "stdout",
     "output_type": "stream",
     "text": [
      "Total runtime: 973.58 seconds.\n"
     ]
    },
    {
     "data": {
      "text/html": [
       "<div>\n",
       "<style scoped>\n",
       "    .dataframe tbody tr th:only-of-type {\n",
       "        vertical-align: middle;\n",
       "    }\n",
       "\n",
       "    .dataframe tbody tr th {\n",
       "        vertical-align: top;\n",
       "    }\n",
       "\n",
       "    .dataframe thead th {\n",
       "        text-align: right;\n",
       "    }\n",
       "</style>\n",
       "<table border=\"1\" class=\"dataframe\">\n",
       "  <thead>\n",
       "    <tr style=\"text-align: right;\">\n",
       "      <th></th>\n",
       "      <th>Ingredient Name</th>\n",
       "      <th>Primary Category</th>\n",
       "      <th>Secondary Category</th>\n",
       "      <th>Foszfor</th>\n",
       "      <th>Magnézium</th>\n",
       "      <th>Nátrium</th>\n",
       "      <th>Kalcium</th>\n",
       "      <th>B6 vitamin</th>\n",
       "      <th>Kolin</th>\n",
       "      <th>Niacin - B3 vitamin</th>\n",
       "      <th>...</th>\n",
       "      <th>Béta-karotin</th>\n",
       "      <th>Lutein+zeaxantin</th>\n",
       "      <th>K vitamin</th>\n",
       "      <th>A vitamin</th>\n",
       "      <th>Likopin</th>\n",
       "      <th>Alfa-karotin</th>\n",
       "      <th>Béta-kriptoxantin</th>\n",
       "      <th>koleszterin</th>\n",
       "      <th>Retinol</th>\n",
       "      <th>Folsav</th>\n",
       "    </tr>\n",
       "  </thead>\n",
       "  <tbody>\n",
       "    <tr>\n",
       "      <th>0</th>\n",
       "      <td>vargánya gomba</td>\n",
       "      <td>gombák</td>\n",
       "      <td>erdei gomba</td>\n",
       "      <td>0.086</td>\n",
       "      <td>0.009</td>\n",
       "      <td>0.005</td>\n",
       "      <td>0.003</td>\n",
       "      <td>0.104</td>\n",
       "      <td>0.0173</td>\n",
       "      <td>0.003607</td>\n",
       "      <td>...</td>\n",
       "      <td>NaN</td>\n",
       "      <td>NaN</td>\n",
       "      <td>NaN</td>\n",
       "      <td>NaN</td>\n",
       "      <td>NaN</td>\n",
       "      <td>NaN</td>\n",
       "      <td>NaN</td>\n",
       "      <td>NaN</td>\n",
       "      <td>NaN</td>\n",
       "      <td>NaN</td>\n",
       "    </tr>\n",
       "    <tr>\n",
       "      <th>1</th>\n",
       "      <td>áfonya</td>\n",
       "      <td>gyümölcsök</td>\n",
       "      <td>bogyós gyümölcs</td>\n",
       "      <td>0.012</td>\n",
       "      <td>0.006</td>\n",
       "      <td>0.001</td>\n",
       "      <td>0.006</td>\n",
       "      <td>0.052</td>\n",
       "      <td>0.0060</td>\n",
       "      <td>0.000418</td>\n",
       "      <td>...</td>\n",
       "      <td>0.000032</td>\n",
       "      <td>0.000080</td>\n",
       "      <td>0.000019</td>\n",
       "      <td>0.000003</td>\n",
       "      <td>NaN</td>\n",
       "      <td>NaN</td>\n",
       "      <td>NaN</td>\n",
       "      <td>NaN</td>\n",
       "      <td>NaN</td>\n",
       "      <td>NaN</td>\n",
       "    </tr>\n",
       "    <tr>\n",
       "      <th>2</th>\n",
       "      <td>vöröskáposzta</td>\n",
       "      <td>zöldségek</td>\n",
       "      <td>káposztafélék</td>\n",
       "      <td>0.030</td>\n",
       "      <td>0.016</td>\n",
       "      <td>0.027</td>\n",
       "      <td>0.045</td>\n",
       "      <td>0.209</td>\n",
       "      <td>0.0171</td>\n",
       "      <td>0.000418</td>\n",
       "      <td>...</td>\n",
       "      <td>0.000670</td>\n",
       "      <td>0.000329</td>\n",
       "      <td>0.000038</td>\n",
       "      <td>0.000056</td>\n",
       "      <td>0.000020</td>\n",
       "      <td>NaN</td>\n",
       "      <td>NaN</td>\n",
       "      <td>NaN</td>\n",
       "      <td>NaN</td>\n",
       "      <td>NaN</td>\n",
       "    </tr>\n",
       "    <tr>\n",
       "      <th>3</th>\n",
       "      <td>citrom</td>\n",
       "      <td>gyümölcsök</td>\n",
       "      <td>déli gyümölcs</td>\n",
       "      <td>0.016</td>\n",
       "      <td>0.008</td>\n",
       "      <td>0.002</td>\n",
       "      <td>0.026</td>\n",
       "      <td>0.080</td>\n",
       "      <td>0.0051</td>\n",
       "      <td>0.000100</td>\n",
       "      <td>...</td>\n",
       "      <td>0.000003</td>\n",
       "      <td>0.000011</td>\n",
       "      <td>NaN</td>\n",
       "      <td>0.000001</td>\n",
       "      <td>NaN</td>\n",
       "      <td>0.000001</td>\n",
       "      <td>0.00002</td>\n",
       "      <td>NaN</td>\n",
       "      <td>NaN</td>\n",
       "      <td>NaN</td>\n",
       "    </tr>\n",
       "    <tr>\n",
       "      <th>4</th>\n",
       "      <td>sárgarépa</td>\n",
       "      <td>zöldségek</td>\n",
       "      <td>gyökérzöldség</td>\n",
       "      <td>0.035</td>\n",
       "      <td>0.012</td>\n",
       "      <td>0.069</td>\n",
       "      <td>0.033</td>\n",
       "      <td>0.138</td>\n",
       "      <td>0.0088</td>\n",
       "      <td>0.000983</td>\n",
       "      <td>...</td>\n",
       "      <td>0.008285</td>\n",
       "      <td>0.000256</td>\n",
       "      <td>0.000013</td>\n",
       "      <td>0.000835</td>\n",
       "      <td>0.000001</td>\n",
       "      <td>0.003477</td>\n",
       "      <td>NaN</td>\n",
       "      <td>NaN</td>\n",
       "      <td>NaN</td>\n",
       "      <td>NaN</td>\n",
       "    </tr>\n",
       "  </tbody>\n",
       "</table>\n",
       "<p>5 rows × 40 columns</p>\n",
       "</div>"
      ],
      "text/plain": [
       "  Ingredient Name Primary Category Secondary Category  Foszfor  Magnézium  \\\n",
       "0  vargánya gomba           gombák        erdei gomba    0.086      0.009   \n",
       "1          áfonya       gyümölcsök    bogyós gyümölcs    0.012      0.006   \n",
       "2   vöröskáposzta        zöldségek      káposztafélék    0.030      0.016   \n",
       "3          citrom       gyümölcsök      déli gyümölcs    0.016      0.008   \n",
       "4       sárgarépa        zöldségek      gyökérzöldség    0.035      0.012   \n",
       "\n",
       "   Nátrium  Kalcium  B6 vitamin   Kolin  Niacin - B3 vitamin  ...  \\\n",
       "0    0.005    0.003       0.104  0.0173             0.003607  ...   \n",
       "1    0.001    0.006       0.052  0.0060             0.000418  ...   \n",
       "2    0.027    0.045       0.209  0.0171             0.000418  ...   \n",
       "3    0.002    0.026       0.080  0.0051             0.000100  ...   \n",
       "4    0.069    0.033       0.138  0.0088             0.000983  ...   \n",
       "\n",
       "   Béta-karotin  Lutein+zeaxantin  K vitamin  A vitamin   Likopin  \\\n",
       "0           NaN               NaN        NaN        NaN       NaN   \n",
       "1      0.000032          0.000080   0.000019   0.000003       NaN   \n",
       "2      0.000670          0.000329   0.000038   0.000056  0.000020   \n",
       "3      0.000003          0.000011        NaN   0.000001       NaN   \n",
       "4      0.008285          0.000256   0.000013   0.000835  0.000001   \n",
       "\n",
       "   Alfa-karotin  Béta-kriptoxantin  koleszterin  Retinol  Folsav  \n",
       "0           NaN                NaN          NaN      NaN     NaN  \n",
       "1           NaN                NaN          NaN      NaN     NaN  \n",
       "2           NaN                NaN          NaN      NaN     NaN  \n",
       "3      0.000001            0.00002          NaN      NaN     NaN  \n",
       "4      0.003477                NaN          NaN      NaN     NaN  \n",
       "\n",
       "[5 rows x 40 columns]"
      ]
     },
     "execution_count": 190,
     "metadata": {},
     "output_type": "execute_result"
    }
   ],
   "source": [
    "# Start measuring execution time\n",
    "start_time = time.time()\n",
    "\n",
    "# Initialize counters\n",
    "ingredient_data = []\n",
    "success_count = 0\n",
    "total_count = len(all_ingredient_urls)\n",
    "\n",
    "# Process each ingredient URL\n",
    "with tqdm(total=total_count, desc=\"Processing Ingredients\") as pbar:\n",
    "    for i, url in enumerate(all_ingredient_urls, start=1):\n",
    "        ingredient_scraper = IngredientScraper(url)\n",
    "        ingredient_details_df = ingredient_scraper.to_dataframe()\n",
    "\n",
    "        if not ingredient_details_df.empty:\n",
    "            ingredient_data.append(ingredient_details_df)\n",
    "            success_count += 1  # Count successful scrapes\n",
    "\n",
    "        # Periodically print status updates\n",
    "        if i % 150 == 0 or i == total_count:\n",
    "            elapsed_time = time.time() - start_time\n",
    "            print(f\"Processed {i}/{total_count} URLs. Successful ingredients: {success_count}. Elapsed time: {elapsed_time:.2f} seconds.\")\n",
    "\n",
    "        pbar.update(1)  # Update progress bar\n",
    "\n",
    "# Combine all ingredient data into a single DataFrame\n",
    "final_ingredient_df = pd.concat(ingredient_data, ignore_index=True)\n",
    "\n",
    "# Clean the extracted nutritional data\n",
    "final_ingredient_df_cleaned = DataProcessor.clean_nutrition_data_ingredients(final_ingredient_df)\n",
    "\n",
    "# Save the cleaned data to CSV\n",
    "output_path = r\"C:\\Users\\Bálint\\Desktop\\Asztal\\Projekt\\outputs\\ingredients_cleaned.csv\"\n",
    "final_ingredient_df_cleaned.to_csv(output_path, index=False)\n",
    "\n",
    "# End measuring execution time\n",
    "end_time = time.time()\n",
    "print(f\"Total runtime: {end_time - start_time:.2f} seconds.\")\n",
    "# Display the first few rows of the cleaned dataset\n",
    "final_ingredient_df_cleaned.head()"
   ]
  }
 ],
 "metadata": {
  "kernelspec": {
   "display_name": "Python 3 (ipykernel)",
   "language": "python",
   "name": "python3"
  },
  "language_info": {
   "codemirror_mode": {
    "name": "ipython",
    "version": 3
   },
   "file_extension": ".py",
   "mimetype": "text/x-python",
   "name": "python",
   "nbconvert_exporter": "python",
   "pygments_lexer": "ipython3",
   "version": "3.9.13"
  }
 },
 "nbformat": 4,
 "nbformat_minor": 5
}
